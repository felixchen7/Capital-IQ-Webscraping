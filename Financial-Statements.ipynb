{
 "cells": [
  {
   "cell_type": "markdown",
   "metadata": {},
   "source": [
    "# Capital IQ Webscraping | Financial Statements"
   ]
  },
  {
   "cell_type": "markdown",
   "metadata": {},
   "source": [
    "A demonstration for scraping financial statements from the Capital IQ Website. All of the major financial statements are structured in the same way, so this method will work for any of them."
   ]
  },
  {
   "cell_type": "code",
   "execution_count": 1,
   "metadata": {},
   "outputs": [],
   "source": [
    "from selenium.webdriver.common.keys import Keys\n",
    "from selenium import webdriver\n",
    "from bs4 import BeautifulSoup\n",
    "import pandas as pd\n",
    "import lxml\n",
    "import getpass"
   ]
  },
  {
   "cell_type": "markdown",
   "metadata": {},
   "source": [
    "### Website url and parameters"
   ]
  },
  {
   "cell_type": "code",
   "execution_count": 2,
   "metadata": {},
   "outputs": [],
   "source": [
    "company = 24937\n",
    "statement = 'IncomeStatement' #other options include: BalanceSheet, Cashflow\n",
    "url = 'https://www.capitaliq.com/CIQDotNet/Financial/{}.aspx?companyId={}'"
   ]
  },
  {
   "cell_type": "markdown",
   "metadata": {},
   "source": [
    "### Credentials for website authentication"
   ]
  },
  {
   "cell_type": "code",
   "execution_count": 3,
   "metadata": {},
   "outputs": [
    {
     "name": "stdin",
     "output_type": "stream",
     "text": [
      " israel.dryer@us.gt.com\n"
     ]
    }
   ],
   "source": [
    "username = input()"
   ]
  },
  {
   "cell_type": "code",
   "execution_count": 4,
   "metadata": {},
   "outputs": [
    {
     "name": "stdin",
     "output_type": "stream",
     "text": [
      " ·········\n"
     ]
    }
   ],
   "source": [
    "password = getpass.getpass()"
   ]
  },
  {
   "cell_type": "markdown",
   "metadata": {},
   "source": [
    "### Create the browser bot"
   ]
  },
  {
   "cell_type": "code",
   "execution_count": 5,
   "metadata": {},
   "outputs": [],
   "source": [
    "bot = webdriver.Chrome()"
   ]
  },
  {
   "cell_type": "markdown",
   "metadata": {},
   "source": [
    "### Navigate to the website and login"
   ]
  },
  {
   "cell_type": "code",
   "execution_count": 6,
   "metadata": {},
   "outputs": [],
   "source": [
    "bot.get(url.format(statement, company))"
   ]
  },
  {
   "cell_type": "code",
   "execution_count": 7,
   "metadata": {},
   "outputs": [],
   "source": [
    "bot.find_element_by_id('username').send_keys(username)"
   ]
  },
  {
   "cell_type": "code",
   "execution_count": 8,
   "metadata": {},
   "outputs": [],
   "source": [
    "pwd = bot.find_element_by_id('password')\n",
    "pwd.send_keys(password)\n",
    "pwd.send_keys(Keys.RETURN)"
   ]
  },
  {
   "cell_type": "markdown",
   "metadata": {},
   "source": [
    "### Extract data from the webpage"
   ]
  },
  {
   "cell_type": "code",
   "execution_count": 9,
   "metadata": {},
   "outputs": [],
   "source": [
    "soup = BeautifulSoup(bot.page_source, 'lxml')"
   ]
  },
  {
   "cell_type": "markdown",
   "metadata": {},
   "source": [
    "### Find all < a > tags in the data table with the clickThru class"
   ]
  },
  {
   "cell_type": "code",
   "execution_count": 10,
   "metadata": {},
   "outputs": [],
   "source": [
    "table = soup.find('table',{'class':'FinancialGridView'}).find_all('a',{'class':'clickThru'})"
   ]
  },
  {
   "cell_type": "code",
   "execution_count": 11,
   "metadata": {},
   "outputs": [
    {
     "name": "stdout",
     "output_type": "stream",
     "text": [
      "<a class=\"clickThru\" href=\"javascript:void(0);\" onclick=\"javascript:parent.clickThrough(event,'a685',1, '112', '1814669187', '24937', '160', '0', '', '', 'False');\" title=\"Revenue\n",
      " FY: 2014\n",
      " Period End Date: Sep-27-2014\n",
      " Filing Date: Oct-26-2016\n",
      " Period Type: Annual\n",
      " Value: 182,795.0, Currency: USD, Millions\">182,795.0</a>\n"
     ]
    }
   ],
   "source": [
    "print(table[0])"
   ]
  },
  {
   "cell_type": "markdown",
   "metadata": {},
   "source": [
    "### Extract the __title__ of each element and split into lists by line break"
   ]
  },
  {
   "cell_type": "code",
   "execution_count": 12,
   "metadata": {},
   "outputs": [],
   "source": [
    "raw = []\n",
    "for x in table:\n",
    "    try:\n",
    "        raw.append(x['title'].split('\\n'))\n",
    "    except:\n",
    "        continue"
   ]
  },
  {
   "cell_type": "code",
   "execution_count": 13,
   "metadata": {},
   "outputs": [
    {
     "name": "stdout",
     "output_type": "stream",
     "text": [
      "['Revenue', ' FY: 2014', ' Period End Date: Sep-27-2014', ' Filing Date: Oct-26-2016', ' Period Type: Annual', ' Value: 182,795.0, Currency: USD, Millions']\n"
     ]
    }
   ],
   "source": [
    "print(raw[0])"
   ]
  },
  {
   "cell_type": "markdown",
   "metadata": {},
   "source": [
    "### Add a label for the account name. In the example above this is 'Revenue'"
   ]
  },
  {
   "cell_type": "code",
   "execution_count": 14,
   "metadata": {},
   "outputs": [],
   "source": [
    "for x in raw:\n",
    "    if x[0]:\n",
    "        x[0] = 'Account: ' + x[0]"
   ]
  },
  {
   "cell_type": "code",
   "execution_count": 15,
   "metadata": {},
   "outputs": [
    {
     "name": "stdout",
     "output_type": "stream",
     "text": [
      "['Account: Revenue', ' FY: 2014', ' Period End Date: Sep-27-2014', ' Filing Date: Oct-26-2016', ' Period Type: Annual', ' Value: 182,795.0, Currency: USD, Millions']\n"
     ]
    }
   ],
   "source": [
    "print(raw[0])"
   ]
  },
  {
   "cell_type": "markdown",
   "metadata": {},
   "source": [
    "### Convert each record to a dictionary data type"
   ]
  },
  {
   "cell_type": "code",
   "execution_count": 16,
   "metadata": {},
   "outputs": [],
   "source": [
    "data = []\n",
    "\n",
    "for row in raw:\n",
    "    data_dict = {}\n",
    "    for pair in row:\n",
    "        # split embedded kev:value pairs if exist (see 'Value, Currency, Millions' example above)\n",
    "        record = pair.strip().split(', ')\n",
    "        \n",
    "        # single key:value pair\n",
    "        if len(record)==1:\n",
    "            try:\n",
    "                k, v = record[0].split(':')\n",
    "            except:\n",
    "                continue\n",
    "            else:\n",
    "                data_dict[k.strip()] = v.strip()\n",
    "\n",
    "        # multiple key:value pairs\n",
    "        else:\n",
    "            for x in record:\n",
    "                if x.count(':')==0:\n",
    "                    continue\n",
    "                else:\n",
    "                    k, v = x.split(':')\n",
    "                    data_dict[k.strip()] = v.strip()\n",
    "\n",
    "    data.append(data_dict)"
   ]
  },
  {
   "cell_type": "code",
   "execution_count": 17,
   "metadata": {},
   "outputs": [
    {
     "name": "stdout",
     "output_type": "stream",
     "text": [
      "{'Account': 'Revenue', 'FY': '2014', 'Period End Date': 'Sep-27-2014', 'Filing Date': 'Oct-26-2016', 'Period Type': 'Annual', 'Value': '182,795.0', 'Currency': 'USD'}\n"
     ]
    }
   ],
   "source": [
    "print(data[0])"
   ]
  },
  {
   "cell_type": "markdown",
   "metadata": {},
   "source": [
    "### Create a list of all possible data points collected in meta-data"
   ]
  },
  {
   "cell_type": "code",
   "execution_count": 18,
   "metadata": {},
   "outputs": [],
   "source": [
    "key_list = []\n",
    "for row in data:\n",
    "    key_list.extend(row.keys())\n",
    "    \n",
    "key_list = set(key_list)"
   ]
  },
  {
   "cell_type": "code",
   "execution_count": 19,
   "metadata": {},
   "outputs": [
    {
     "name": "stdout",
     "output_type": "stream",
     "text": [
      "{'Period Type', 'Value', 'Account', 'Filing Date', 'Period End Date', 'Currency', 'FQ', 'FY'}\n"
     ]
    }
   ],
   "source": [
    "print(key_list)"
   ]
  },
  {
   "cell_type": "markdown",
   "metadata": {},
   "source": [
    "### Normalize the data by adding the Key with a None value if not exist"
   ]
  },
  {
   "cell_type": "code",
   "execution_count": 20,
   "metadata": {},
   "outputs": [],
   "source": [
    "for row in data:\n",
    "    for key in key_list:\n",
    "        if key not in row:\n",
    "            row[key] = None"
   ]
  },
  {
   "cell_type": "code",
   "execution_count": 21,
   "metadata": {},
   "outputs": [
    {
     "name": "stdout",
     "output_type": "stream",
     "text": [
      "{'Account': 'Revenue', 'FY': '2014', 'Period End Date': 'Sep-27-2014', 'Filing Date': 'Oct-26-2016', 'Period Type': 'Annual', 'Value': '182,795.0', 'Currency': 'USD', 'FQ': None}\n"
     ]
    }
   ],
   "source": [
    "print(data[0])"
   ]
  },
  {
   "cell_type": "markdown",
   "metadata": {},
   "source": [
    "### Import and preview dataframe"
   ]
  },
  {
   "cell_type": "code",
   "execution_count": 22,
   "metadata": {},
   "outputs": [],
   "source": [
    "df = pd.DataFrame(data)"
   ]
  },
  {
   "cell_type": "code",
   "execution_count": 23,
   "metadata": {},
   "outputs": [
    {
     "data": {
      "text/html": [
       "<div>\n",
       "<style scoped>\n",
       "    .dataframe tbody tr th:only-of-type {\n",
       "        vertical-align: middle;\n",
       "    }\n",
       "\n",
       "    .dataframe tbody tr th {\n",
       "        vertical-align: top;\n",
       "    }\n",
       "\n",
       "    .dataframe thead th {\n",
       "        text-align: right;\n",
       "    }\n",
       "</style>\n",
       "<table border=\"1\" class=\"dataframe\">\n",
       "  <thead>\n",
       "    <tr style=\"text-align: right;\">\n",
       "      <th></th>\n",
       "      <th>Account</th>\n",
       "      <th>Currency</th>\n",
       "      <th>FQ</th>\n",
       "      <th>FY</th>\n",
       "      <th>Filing Date</th>\n",
       "      <th>Period End Date</th>\n",
       "      <th>Period Type</th>\n",
       "      <th>Value</th>\n",
       "    </tr>\n",
       "  </thead>\n",
       "  <tbody>\n",
       "    <tr>\n",
       "      <th>0</th>\n",
       "      <td>Revenue</td>\n",
       "      <td>USD</td>\n",
       "      <td>None</td>\n",
       "      <td>2014</td>\n",
       "      <td>Oct-26-2016</td>\n",
       "      <td>Sep-27-2014</td>\n",
       "      <td>Annual</td>\n",
       "      <td>182,795.0</td>\n",
       "    </tr>\n",
       "    <tr>\n",
       "      <th>6</th>\n",
       "      <td>Total Revenue</td>\n",
       "      <td>USD</td>\n",
       "      <td>None</td>\n",
       "      <td>2014</td>\n",
       "      <td>Oct-26-2016</td>\n",
       "      <td>Sep-27-2014</td>\n",
       "      <td>Annual</td>\n",
       "      <td>182,795.0</td>\n",
       "    </tr>\n",
       "    <tr>\n",
       "      <th>12</th>\n",
       "      <td>Cost Of Goods Sold</td>\n",
       "      <td>USD</td>\n",
       "      <td>None</td>\n",
       "      <td>2014</td>\n",
       "      <td>Oct-26-2016</td>\n",
       "      <td>Sep-27-2014</td>\n",
       "      <td>Annual</td>\n",
       "      <td>112,258.0</td>\n",
       "    </tr>\n",
       "    <tr>\n",
       "      <th>18</th>\n",
       "      <td>Gross Profit</td>\n",
       "      <td>USD</td>\n",
       "      <td>None</td>\n",
       "      <td>2014</td>\n",
       "      <td>Oct-26-2016</td>\n",
       "      <td>Sep-27-2014</td>\n",
       "      <td>Annual</td>\n",
       "      <td>70,537.0</td>\n",
       "    </tr>\n",
       "    <tr>\n",
       "      <th>24</th>\n",
       "      <td>Selling General &amp; Admin Exp.</td>\n",
       "      <td>USD</td>\n",
       "      <td>None</td>\n",
       "      <td>2014</td>\n",
       "      <td>Oct-26-2016</td>\n",
       "      <td>Sep-27-2014</td>\n",
       "      <td>Annual</td>\n",
       "      <td>11,993.0</td>\n",
       "    </tr>\n",
       "    <tr>\n",
       "      <th>30</th>\n",
       "      <td>R &amp; D Exp.</td>\n",
       "      <td>USD</td>\n",
       "      <td>None</td>\n",
       "      <td>2014</td>\n",
       "      <td>Oct-26-2016</td>\n",
       "      <td>Sep-27-2014</td>\n",
       "      <td>Annual</td>\n",
       "      <td>6,041.0</td>\n",
       "    </tr>\n",
       "    <tr>\n",
       "      <th>36</th>\n",
       "      <td>Other Operating Exp.</td>\n",
       "      <td>USD</td>\n",
       "      <td>None</td>\n",
       "      <td>2014</td>\n",
       "      <td>Oct-26-2016</td>\n",
       "      <td>Sep-27-2014</td>\n",
       "      <td>Annual</td>\n",
       "      <td>18,034.0</td>\n",
       "    </tr>\n",
       "    <tr>\n",
       "      <th>42</th>\n",
       "      <td>Operating Income</td>\n",
       "      <td>USD</td>\n",
       "      <td>None</td>\n",
       "      <td>2014</td>\n",
       "      <td>Oct-26-2016</td>\n",
       "      <td>Sep-27-2014</td>\n",
       "      <td>Annual</td>\n",
       "      <td>52,503.0</td>\n",
       "    </tr>\n",
       "    <tr>\n",
       "      <th>48</th>\n",
       "      <td>Interest Expense</td>\n",
       "      <td>USD</td>\n",
       "      <td>None</td>\n",
       "      <td>2014</td>\n",
       "      <td>Oct-26-2016</td>\n",
       "      <td>Sep-27-2014</td>\n",
       "      <td>Annual</td>\n",
       "      <td>(384.0)</td>\n",
       "    </tr>\n",
       "    <tr>\n",
       "      <th>54</th>\n",
       "      <td>Interest and Invest. Income</td>\n",
       "      <td>USD</td>\n",
       "      <td>None</td>\n",
       "      <td>2014</td>\n",
       "      <td>Oct-26-2016</td>\n",
       "      <td>Sep-27-2014</td>\n",
       "      <td>Annual</td>\n",
       "      <td>1,795.0</td>\n",
       "    </tr>\n",
       "  </tbody>\n",
       "</table>\n",
       "</div>"
      ],
      "text/plain": [
       "                         Account Currency    FQ    FY  Filing Date  \\\n",
       "0                        Revenue      USD  None  2014  Oct-26-2016   \n",
       "6                  Total Revenue      USD  None  2014  Oct-26-2016   \n",
       "12            Cost Of Goods Sold      USD  None  2014  Oct-26-2016   \n",
       "18                  Gross Profit      USD  None  2014  Oct-26-2016   \n",
       "24  Selling General & Admin Exp.      USD  None  2014  Oct-26-2016   \n",
       "30                    R & D Exp.      USD  None  2014  Oct-26-2016   \n",
       "36          Other Operating Exp.      USD  None  2014  Oct-26-2016   \n",
       "42              Operating Income      USD  None  2014  Oct-26-2016   \n",
       "48              Interest Expense      USD  None  2014  Oct-26-2016   \n",
       "54   Interest and Invest. Income      USD  None  2014  Oct-26-2016   \n",
       "\n",
       "   Period End Date Period Type      Value  \n",
       "0      Sep-27-2014      Annual  182,795.0  \n",
       "6      Sep-27-2014      Annual  182,795.0  \n",
       "12     Sep-27-2014      Annual  112,258.0  \n",
       "18     Sep-27-2014      Annual   70,537.0  \n",
       "24     Sep-27-2014      Annual   11,993.0  \n",
       "30     Sep-27-2014      Annual    6,041.0  \n",
       "36     Sep-27-2014      Annual   18,034.0  \n",
       "42     Sep-27-2014      Annual   52,503.0  \n",
       "48     Sep-27-2014      Annual    (384.0)  \n",
       "54     Sep-27-2014      Annual    1,795.0  "
      ]
     },
     "execution_count": 23,
     "metadata": {},
     "output_type": "execute_result"
    }
   ],
   "source": [
    "df[df['Filing Date']=='Oct-26-2016'].head(10)"
   ]
  }
 ],
 "metadata": {
  "kernelspec": {
   "display_name": "Python 3",
   "language": "python",
   "name": "python3"
  },
  "language_info": {
   "codemirror_mode": {
    "name": "ipython",
    "version": 3
   },
   "file_extension": ".py",
   "mimetype": "text/x-python",
   "name": "python",
   "nbconvert_exporter": "python",
   "pygments_lexer": "ipython3",
   "version": "3.7.3"
  }
 },
 "nbformat": 4,
 "nbformat_minor": 2
}
