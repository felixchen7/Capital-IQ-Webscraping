{
 "cells": [
  {
   "cell_type": "markdown",
   "metadata": {},
   "source": [
    "# Capital IQ Webscraping | Professionals"
   ]
  },
  {
   "cell_type": "markdown",
   "metadata": {},
   "source": [
    "A demonstration for scraping data about company professionals from the Capital IQ Website."
   ]
  },
  {
   "cell_type": "code",
   "execution_count": 1,
   "metadata": {},
   "outputs": [],
   "source": [
    "from selenium.webdriver.common.keys import Keys\n",
    "from selenium import webdriver\n",
    "from bs4 import BeautifulSoup\n",
    "import pandas as pd\n",
    "import lxml\n",
    "import getpass"
   ]
  },
  {
   "cell_type": "markdown",
   "metadata": {},
   "source": [
    "### Website and url parameters"
   ]
  },
  {
   "cell_type": "code",
   "execution_count": 2,
   "metadata": {},
   "outputs": [],
   "source": [
    "company = 24937 # Apple, Inc.\n",
    "url = 'https://www.capitaliq.com/CIQDotNet/Company/Professionals.aspx?CompanyId={}'"
   ]
  },
  {
   "cell_type": "markdown",
   "metadata": {},
   "source": [
    "### Credentials for website authentication"
   ]
  },
  {
   "cell_type": "code",
   "execution_count": 3,
   "metadata": {},
   "outputs": [
    {
     "name": "stdin",
     "output_type": "stream",
     "text": [
      " israel.dryer@us.gt.com\n"
     ]
    }
   ],
   "source": [
    "username = input()"
   ]
  },
  {
   "cell_type": "code",
   "execution_count": 4,
   "metadata": {},
   "outputs": [
    {
     "name": "stdin",
     "output_type": "stream",
     "text": [
      " ·········\n"
     ]
    }
   ],
   "source": [
    "password = getpass.getpass()"
   ]
  },
  {
   "cell_type": "markdown",
   "metadata": {},
   "source": [
    "### Create the browser bot"
   ]
  },
  {
   "cell_type": "code",
   "execution_count": 5,
   "metadata": {},
   "outputs": [],
   "source": [
    "bot = webdriver.Chrome()"
   ]
  },
  {
   "cell_type": "markdown",
   "metadata": {},
   "source": [
    "### Navigate to the website and login"
   ]
  },
  {
   "cell_type": "code",
   "execution_count": 6,
   "metadata": {},
   "outputs": [],
   "source": [
    "bot.get(url.format(company))"
   ]
  },
  {
   "cell_type": "code",
   "execution_count": 7,
   "metadata": {},
   "outputs": [],
   "source": [
    "bot.find_element_by_id('username').send_keys(username)"
   ]
  },
  {
   "cell_type": "code",
   "execution_count": 8,
   "metadata": {},
   "outputs": [],
   "source": [
    "pwd = bot.find_element_by_id('password')\n",
    "pwd.send_keys(password)\n",
    "pwd.send_keys(Keys.RETURN)"
   ]
  },
  {
   "cell_type": "markdown",
   "metadata": {},
   "source": [
    "### Extract data from the webpage"
   ]
  },
  {
   "cell_type": "markdown",
   "metadata": {},
   "source": [
    "Show all records and expand all rows if available"
   ]
  },
  {
   "cell_type": "raw",
   "metadata": {},
   "source": [
    "# expand all rows\n",
    "exp_rows = bot.find_element_by_id(\"dg_ctl00_dg_Icon\")\n",
    "exp_rows.click()"
   ]
  },
  {
   "cell_type": "code",
   "execution_count": 11,
   "metadata": {},
   "outputs": [],
   "source": [
    "soup = BeautifulSoup(bot.page_source, 'lxml')"
   ]
  },
  {
   "cell_type": "markdown",
   "metadata": {},
   "source": [
    "### Find table details within html and parse"
   ]
  },
  {
   "cell_type": "code",
   "execution_count": 12,
   "metadata": {},
   "outputs": [],
   "source": [
    "tables = soup.find_all('tr',{'class':'cTblSummaryRow'})"
   ]
  },
  {
   "cell_type": "code",
   "execution_count": 13,
   "metadata": {},
   "outputs": [],
   "source": [
    "data = []\n",
    "\n",
    "for table in tables:\n",
    "    pdict = {}\n",
    "    pdict['Name'] = table.find_previous_sibling().find_all('td')[2].text.strip()\n",
    "    pdict['Title'] = table.find_previous_sibling().find_all('td')[3].text.strip()\n",
    "    pdict['Office'] = table.find_previous_sibling().find_all('td')[4].text.strip()\n",
    "    pdict['Phone'] = table.find_previous_sibling().find_all('td')[5].text.strip()\n",
    "    pdict['Email'] = table.find_previous_sibling().find_all('td')[6].text.strip()\n",
    "    pdict['Background'] = table.find('itemtemplate').text.strip()\n",
    "    data.append(pdict)"
   ]
  },
  {
   "cell_type": "code",
   "execution_count": 14,
   "metadata": {},
   "outputs": [
    {
     "data": {
      "text/plain": [
       "{'Name': 'Cook, Timothy D.',\n",
       " 'Title': 'CEO & Director',\n",
       " 'Office': 'Cupertino',\n",
       " 'Phone': '408-996-1010',\n",
       " 'Email': '-',\n",
       " 'Background': \"Mr. Timothy D. Cook, also known as Tim, has been the Chief Executive Officer of Apple Inc. since August 24, 2011. Mr. Cook served as the Chief Operating Officer of Apple Inc., from October 14, 2005 to August 24, 2011. He was responsible for all of Apple's worldwide sales and operations, including end-to-end management of Apple’s supply chain, sales activities and service and support in all markets and countries. He also Headed Apple’s Macintosh division and played a key role in the continued development of strategic reseller and supplier relationships, ensuring flexibility in response to an increasingly demanding marketplace. Mr. Cook served as an Executive Vice President of Worldwide Sales & Operations of Apple Inc. from 2002 to 2005. He joined Apple in 1998 and served as a Senior Vice President of Worldwide Operations, Sales, Service and Support from 2000 to 2002. Mr. Cook served as Senior Vice President of Worldwide Operations from 1998 to 2000. He served as Vice President of Corporate Materials of Compaq Computer Corporation from 1997 to 1998 and was responsible for procuring and managing its product inventory. Before his work at Compaq Computer Corporation, he served as Chief Operating Officer of the Reseller Division of Intelligent Electronics. Previous to his work at Compaq, Mr. Cook served in the positions of Senior Vice President Fulfillment and Chief Operating Officer of the Reseller Division at Intelligent Electronics from 1994 to 1997. Mr. Cook also worked for International Business Machines Corporation from 1983 to 1994. Mr. Cook also spent 12 years with IBM, served as Director of North American Fulfillment, where he led manufacturing and distribution functions for IBM's Personal Computer Company in North and Latin America. Mr. Cook serves as a Member of the Board of Directors of the National Football Foundation & College Hall of Fame, Inc. Mr. Cook serves on the Board of Trustees for Duke University. He serves on the Leadership Council of Malala Fund. He has been a Director of Apple Inc. since August 24, 2011. He has been an Independent Director of Nike, Inc. since November 2005 and has been its Lead Independent Director since June 30, 2016. He serves as a Director of Robert F. Kennedy Center for Justice and Human Rights. Mr. Cook has executive experience and knowledge of technology, cyber security, marketing, and international business. Mr. Cook studied an MBA from Duke University, where he was a Fuqua Scholar and a Bachelor of Science Degree in Industrial Engineering from Auburn University.\"}"
      ]
     },
     "execution_count": 14,
     "metadata": {},
     "output_type": "execute_result"
    }
   ],
   "source": [
    "data[0]"
   ]
  },
  {
   "cell_type": "markdown",
   "metadata": {},
   "source": [
    "### Create and preview dataframe"
   ]
  },
  {
   "cell_type": "code",
   "execution_count": 15,
   "metadata": {},
   "outputs": [],
   "source": [
    "df = pd.DataFrame(data)"
   ]
  },
  {
   "cell_type": "code",
   "execution_count": 16,
   "metadata": {},
   "outputs": [
    {
     "data": {
      "text/html": [
       "<div>\n",
       "<style scoped>\n",
       "    .dataframe tbody tr th:only-of-type {\n",
       "        vertical-align: middle;\n",
       "    }\n",
       "\n",
       "    .dataframe tbody tr th {\n",
       "        vertical-align: top;\n",
       "    }\n",
       "\n",
       "    .dataframe thead th {\n",
       "        text-align: right;\n",
       "    }\n",
       "</style>\n",
       "<table border=\"1\" class=\"dataframe\">\n",
       "  <thead>\n",
       "    <tr style=\"text-align: right;\">\n",
       "      <th></th>\n",
       "      <th>Background</th>\n",
       "      <th>Email</th>\n",
       "      <th>Name</th>\n",
       "      <th>Office</th>\n",
       "      <th>Phone</th>\n",
       "      <th>Title</th>\n",
       "    </tr>\n",
       "  </thead>\n",
       "  <tbody>\n",
       "    <tr>\n",
       "      <th>0</th>\n",
       "      <td>Mr. Timothy D. Cook, also known as Tim, has be...</td>\n",
       "      <td>-</td>\n",
       "      <td>Cook, Timothy D.</td>\n",
       "      <td>Cupertino</td>\n",
       "      <td>408-996-1010</td>\n",
       "      <td>CEO &amp; Director</td>\n",
       "    </tr>\n",
       "    <tr>\n",
       "      <th>1</th>\n",
       "      <td>Mr. Luca Maestri has been the Chief Financial ...</td>\n",
       "      <td>-</td>\n",
       "      <td>Maestri, Luca</td>\n",
       "      <td>Cupertino</td>\n",
       "      <td>408-996-1010</td>\n",
       "      <td>CFO &amp; Senior VP</td>\n",
       "    </tr>\n",
       "    <tr>\n",
       "      <th>2</th>\n",
       "      <td>Mr. Jeffrey E. Williams, also known as Jeff, h...</td>\n",
       "      <td>-</td>\n",
       "      <td>Williams, Jeffrey E.</td>\n",
       "      <td>Cupertino</td>\n",
       "      <td>408-996-1010</td>\n",
       "      <td>Chief Operating Officer</td>\n",
       "    </tr>\n",
       "    <tr>\n",
       "      <th>3</th>\n",
       "      <td>Mr. Chris Kondo has been Senior Director of Co...</td>\n",
       "      <td>ckondo@apple.com</td>\n",
       "      <td>Kondo, Chris</td>\n",
       "      <td>Cupertino</td>\n",
       "      <td>408-996-1010</td>\n",
       "      <td>Senior Director of Corporate Accounting</td>\n",
       "    </tr>\n",
       "    <tr>\n",
       "      <th>4</th>\n",
       "      <td>Mr. James Wilson has been the Chief Technology...</td>\n",
       "      <td>-</td>\n",
       "      <td>Wilson, James</td>\n",
       "      <td>Cupertino</td>\n",
       "      <td>408-996-1010</td>\n",
       "      <td>Chief Technology Officer</td>\n",
       "    </tr>\n",
       "    <tr>\n",
       "      <th>5</th>\n",
       "      <td>Ms. Nancy Paxton serves as Senior Director of ...</td>\n",
       "      <td>paxton1@apple.com</td>\n",
       "      <td>Paxton, Nancy</td>\n",
       "      <td>Cupertino</td>\n",
       "      <td>(408) 974-5420</td>\n",
       "      <td>Director-Investor Relations</td>\n",
       "    </tr>\n",
       "    <tr>\n",
       "      <th>6</th>\n",
       "      <td>Ms. Katherine L. Adams, also known as Kate, ha...</td>\n",
       "      <td>-</td>\n",
       "      <td>Adams, Katherine L.</td>\n",
       "      <td>Cupertino</td>\n",
       "      <td>408-996-1010</td>\n",
       "      <td>Senior VP, General Counsel &amp; Secretary</td>\n",
       "    </tr>\n",
       "    <tr>\n",
       "      <th>7</th>\n",
       "      <td>Mr. Adrian Perica has been Vice President of C...</td>\n",
       "      <td>-</td>\n",
       "      <td>Perica, Adrian</td>\n",
       "      <td>Cupertino</td>\n",
       "      <td>408-996-1010</td>\n",
       "      <td>Vice President of Corporate Development</td>\n",
       "    </tr>\n",
       "    <tr>\n",
       "      <th>8</th>\n",
       "      <td>Mr. Philip W. Schiller, also known as Phil, ha...</td>\n",
       "      <td>-</td>\n",
       "      <td>Schiller, Philip W.</td>\n",
       "      <td>Cupertino</td>\n",
       "      <td>408-996-1010</td>\n",
       "      <td>Senior Vice President of Worldwide Marketing</td>\n",
       "    </tr>\n",
       "    <tr>\n",
       "      <th>9</th>\n",
       "      <td>Ms. Deirdre O’Brien has been  Senior Vice Pres...</td>\n",
       "      <td>-</td>\n",
       "      <td>O’Brien, Deirdre</td>\n",
       "      <td>Cupertino</td>\n",
       "      <td>408-996-1010</td>\n",
       "      <td>Senior Vice President of People &amp; Retail</td>\n",
       "    </tr>\n",
       "  </tbody>\n",
       "</table>\n",
       "</div>"
      ],
      "text/plain": [
       "                                          Background              Email  \\\n",
       "0  Mr. Timothy D. Cook, also known as Tim, has be...                  -   \n",
       "1  Mr. Luca Maestri has been the Chief Financial ...                  -   \n",
       "2  Mr. Jeffrey E. Williams, also known as Jeff, h...                  -   \n",
       "3  Mr. Chris Kondo has been Senior Director of Co...   ckondo@apple.com   \n",
       "4  Mr. James Wilson has been the Chief Technology...                  -   \n",
       "5  Ms. Nancy Paxton serves as Senior Director of ...  paxton1@apple.com   \n",
       "6  Ms. Katherine L. Adams, also known as Kate, ha...                  -   \n",
       "7  Mr. Adrian Perica has been Vice President of C...                  -   \n",
       "8  Mr. Philip W. Schiller, also known as Phil, ha...                  -   \n",
       "9  Ms. Deirdre O’Brien has been  Senior Vice Pres...                  -   \n",
       "\n",
       "                   Name     Office           Phone  \\\n",
       "0      Cook, Timothy D.  Cupertino    408-996-1010   \n",
       "1         Maestri, Luca  Cupertino    408-996-1010   \n",
       "2  Williams, Jeffrey E.  Cupertino    408-996-1010   \n",
       "3          Kondo, Chris  Cupertino    408-996-1010   \n",
       "4         Wilson, James  Cupertino    408-996-1010   \n",
       "5         Paxton, Nancy  Cupertino  (408) 974-5420   \n",
       "6   Adams, Katherine L.  Cupertino    408-996-1010   \n",
       "7        Perica, Adrian  Cupertino    408-996-1010   \n",
       "8   Schiller, Philip W.  Cupertino    408-996-1010   \n",
       "9      O’Brien, Deirdre  Cupertino    408-996-1010   \n",
       "\n",
       "                                          Title  \n",
       "0                                CEO & Director  \n",
       "1                               CFO & Senior VP  \n",
       "2                       Chief Operating Officer  \n",
       "3       Senior Director of Corporate Accounting  \n",
       "4                      Chief Technology Officer  \n",
       "5                   Director-Investor Relations  \n",
       "6        Senior VP, General Counsel & Secretary  \n",
       "7       Vice President of Corporate Development  \n",
       "8  Senior Vice President of Worldwide Marketing  \n",
       "9      Senior Vice President of People & Retail  "
      ]
     },
     "execution_count": 16,
     "metadata": {},
     "output_type": "execute_result"
    }
   ],
   "source": [
    "df.head(10)"
   ]
  }
 ],
 "metadata": {
  "kernelspec": {
   "display_name": "Python 3",
   "language": "python",
   "name": "python3"
  },
  "language_info": {
   "codemirror_mode": {
    "name": "ipython",
    "version": 3
   },
   "file_extension": ".py",
   "mimetype": "text/x-python",
   "name": "python",
   "nbconvert_exporter": "python",
   "pygments_lexer": "ipython3",
   "version": "3.7.3"
  }
 },
 "nbformat": 4,
 "nbformat_minor": 2
}
