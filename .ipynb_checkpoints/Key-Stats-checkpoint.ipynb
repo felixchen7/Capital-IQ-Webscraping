{
 "cells": [
  {
   "cell_type": "markdown",
   "metadata": {},
   "source": [
    "# Capital IQ Webscraping | Key Stats"
   ]
  },
  {
   "cell_type": "markdown",
   "metadata": {},
   "source": [
    "A demonstration for scraping key statistics from the Capital IQ Website"
   ]
  },
  {
   "cell_type": "code",
   "execution_count": 1,
   "metadata": {},
   "outputs": [],
   "source": [
    "from selenium.webdriver.common.keys import Keys\n",
    "from selenium import webdriver\n",
    "from bs4 import BeautifulSoup\n",
    "import pandas as pd\n",
    "import lxml\n",
    "import getpass"
   ]
  },
  {
   "cell_type": "markdown",
   "metadata": {},
   "source": [
    "### Website url and parameters"
   ]
  },
  {
   "cell_type": "code",
   "execution_count": 2,
   "metadata": {},
   "outputs": [],
   "source": [
    "company = 24937 # Apple, Inc.\n",
    "url = 'https://www.capitaliq.com/CIQDotNet/Financial/KeyStats.aspx?companyId={}'"
   ]
  },
  {
   "cell_type": "markdown",
   "metadata": {},
   "source": [
    "### Credentials for website authentication"
   ]
  },
  {
   "cell_type": "code",
   "execution_count": 3,
   "metadata": {},
   "outputs": [
    {
     "name": "stdin",
     "output_type": "stream",
     "text": [
      " israel.dryer@us.gt.com\n"
     ]
    }
   ],
   "source": [
    "username = input()"
   ]
  },
  {
   "cell_type": "code",
   "execution_count": 5,
   "metadata": {},
   "outputs": [
    {
     "name": "stdin",
     "output_type": "stream",
     "text": [
      " ·········\n"
     ]
    }
   ],
   "source": [
    "password = getpass.getpass()"
   ]
  },
  {
   "cell_type": "markdown",
   "metadata": {},
   "source": [
    "### Create the browser bot"
   ]
  },
  {
   "cell_type": "code",
   "execution_count": 6,
   "metadata": {},
   "outputs": [],
   "source": [
    "bot = webdriver.Chrome()"
   ]
  },
  {
   "cell_type": "markdown",
   "metadata": {},
   "source": [
    "### Navigate to the website and login"
   ]
  },
  {
   "cell_type": "code",
   "execution_count": 7,
   "metadata": {},
   "outputs": [],
   "source": [
    "bot.get(url.format(company))"
   ]
  },
  {
   "cell_type": "code",
   "execution_count": 8,
   "metadata": {},
   "outputs": [],
   "source": [
    "bot.find_element_by_id('username').send_keys(username)"
   ]
  },
  {
   "cell_type": "code",
   "execution_count": 9,
   "metadata": {},
   "outputs": [],
   "source": [
    "pwd = bot.find_element_by_id('password')\n",
    "pwd.send_keys(password)\n",
    "pwd.send_keys(Keys.RETURN)"
   ]
  },
  {
   "cell_type": "markdown",
   "metadata": {},
   "source": [
    "### Extract data from the webpage"
   ]
  },
  {
   "cell_type": "code",
   "execution_count": 10,
   "metadata": {},
   "outputs": [],
   "source": [
    "soup = BeautifulSoup(bot.page_source, 'lxml')"
   ]
  },
  {
   "cell_type": "markdown",
   "metadata": {},
   "source": [
    "### Find all < a > tags in the data table with the clickThru class"
   ]
  },
  {
   "cell_type": "code",
   "execution_count": 11,
   "metadata": {},
   "outputs": [],
   "source": [
    "table = soup.find('table',{'class':'FinancialGridView'}).find_all('a',{'class':'clickThru'})"
   ]
  },
  {
   "cell_type": "code",
   "execution_count": 12,
   "metadata": {},
   "outputs": [
    {
     "name": "stdout",
     "output_type": "stream",
     "text": [
      "<a class=\"clickThru\" href=\"javascript:void(0);\" onclick=\"javascript:parent.clickThrough(event,'f86e',1, '28', '1863996684', '24937', '160', '1', '', '', 'False');\" title=\"Total Revenue\n",
      " FY: 2015\n",
      " Period End Date: Sep-26-2015\n",
      " Filing Date: Nov-03-2017\n",
      " Period Type: Annual\n",
      " Value: 233,715.0, Currency: USD, Millions\">233,715.0</a>\n"
     ]
    }
   ],
   "source": [
    "print(table[0])"
   ]
  },
  {
   "cell_type": "markdown",
   "metadata": {},
   "source": [
    "### Extract the __title__ of each element and split into lists by line break"
   ]
  },
  {
   "cell_type": "code",
   "execution_count": 13,
   "metadata": {},
   "outputs": [],
   "source": [
    "raw = []\n",
    "for x in table:\n",
    "    try:\n",
    "        raw.append(x['title'].split('\\n'))\n",
    "    except:\n",
    "        continue"
   ]
  },
  {
   "cell_type": "code",
   "execution_count": 14,
   "metadata": {},
   "outputs": [
    {
     "name": "stdout",
     "output_type": "stream",
     "text": [
      "['Total Revenue', ' FY: 2015', ' Period End Date: Sep-26-2015', ' Filing Date: Nov-03-2017', ' Period Type: Annual', ' Value: 233,715.0, Currency: USD, Millions']\n"
     ]
    }
   ],
   "source": [
    "print(raw[0])"
   ]
  },
  {
   "cell_type": "markdown",
   "metadata": {},
   "source": [
    "### Add a label for the account name. In the example above this is 'Revenue'"
   ]
  },
  {
   "cell_type": "code",
   "execution_count": 15,
   "metadata": {},
   "outputs": [],
   "source": [
    "for x in raw:\n",
    "    if x[0]:\n",
    "        x[0] = 'Account: ' + x[0]"
   ]
  },
  {
   "cell_type": "code",
   "execution_count": 16,
   "metadata": {},
   "outputs": [
    {
     "name": "stdout",
     "output_type": "stream",
     "text": [
      "['Account: Total Revenue', ' FY: 2015', ' Period End Date: Sep-26-2015', ' Filing Date: Nov-03-2017', ' Period Type: Annual', ' Value: 233,715.0, Currency: USD, Millions']\n"
     ]
    }
   ],
   "source": [
    "print(raw[0])"
   ]
  },
  {
   "cell_type": "markdown",
   "metadata": {},
   "source": [
    "### Convert each record to a dictionary data type"
   ]
  },
  {
   "cell_type": "code",
   "execution_count": 17,
   "metadata": {},
   "outputs": [],
   "source": [
    "data = []\n",
    "\n",
    "for row in raw:\n",
    "    data_dict = {}\n",
    "    for pair in row:\n",
    "        # split embedded kev:value pairs if exist (see 'Value, Currency, Millions' example above)\n",
    "        record = pair.strip().split(', ')\n",
    "        \n",
    "        # single key:value pair\n",
    "        if len(record)==1:\n",
    "            try:\n",
    "                k, v = record[0].split(':')\n",
    "            except:\n",
    "                continue\n",
    "            else:\n",
    "                data_dict[k.strip()] = v.strip()\n",
    "\n",
    "        # multiple key:value pairs\n",
    "        else:\n",
    "            for x in record:\n",
    "                if x.count(':')==0:\n",
    "                    continue\n",
    "                else:\n",
    "                    k, v = x.split(':')\n",
    "                    data_dict[k.strip()] = v.strip()\n",
    "\n",
    "    data.append(data_dict)"
   ]
  },
  {
   "cell_type": "code",
   "execution_count": 18,
   "metadata": {},
   "outputs": [
    {
     "name": "stdout",
     "output_type": "stream",
     "text": [
      "{'Account': 'Total Revenue', 'FY': '2015', 'Period End Date': 'Sep-26-2015', 'Filing Date': 'Nov-03-2017', 'Period Type': 'Annual', 'Value': '233,715.0', 'Currency': 'USD'}\n"
     ]
    }
   ],
   "source": [
    "print(data[0])"
   ]
  },
  {
   "cell_type": "markdown",
   "metadata": {},
   "source": [
    "### Create a list of all possible data points collected in meta-data"
   ]
  },
  {
   "cell_type": "code",
   "execution_count": 19,
   "metadata": {},
   "outputs": [],
   "source": [
    "key_list = []\n",
    "for row in data:\n",
    "    key_list.extend(row.keys())\n",
    "    \n",
    "key_list = set(key_list)"
   ]
  },
  {
   "cell_type": "code",
   "execution_count": 20,
   "metadata": {},
   "outputs": [
    {
     "name": "stdout",
     "output_type": "stream",
     "text": [
      "{'Value', 'Period End Date', 'Filing Date', 'Currency', 'Account', 'FQ', 'FY', 'Period Type'}\n"
     ]
    }
   ],
   "source": [
    "print(key_list)"
   ]
  },
  {
   "cell_type": "markdown",
   "metadata": {},
   "source": [
    "### Normalize the data by adding the Key with a None value if not exist"
   ]
  },
  {
   "cell_type": "code",
   "execution_count": 21,
   "metadata": {},
   "outputs": [],
   "source": [
    "for row in data:\n",
    "    for key in key_list:\n",
    "        if key not in row:\n",
    "            row[key] = None"
   ]
  },
  {
   "cell_type": "code",
   "execution_count": 22,
   "metadata": {},
   "outputs": [
    {
     "name": "stdout",
     "output_type": "stream",
     "text": [
      "{'Account': 'Total Revenue', 'FY': '2015', 'Period End Date': 'Sep-26-2015', 'Filing Date': 'Nov-03-2017', 'Period Type': 'Annual', 'Value': '233,715.0', 'Currency': 'USD', 'FQ': None}\n"
     ]
    }
   ],
   "source": [
    "print(data[0])"
   ]
  },
  {
   "cell_type": "markdown",
   "metadata": {},
   "source": [
    "### Import and preview dataframe"
   ]
  },
  {
   "cell_type": "code",
   "execution_count": 23,
   "metadata": {},
   "outputs": [],
   "source": [
    "df = pd.DataFrame(data)"
   ]
  },
  {
   "cell_type": "code",
   "execution_count": 24,
   "metadata": {},
   "outputs": [
    {
     "data": {
      "text/html": [
       "<div>\n",
       "<style scoped>\n",
       "    .dataframe tbody tr th:only-of-type {\n",
       "        vertical-align: middle;\n",
       "    }\n",
       "\n",
       "    .dataframe tbody tr th {\n",
       "        vertical-align: top;\n",
       "    }\n",
       "\n",
       "    .dataframe thead th {\n",
       "        text-align: right;\n",
       "    }\n",
       "</style>\n",
       "<table border=\"1\" class=\"dataframe\">\n",
       "  <thead>\n",
       "    <tr style=\"text-align: right;\">\n",
       "      <th></th>\n",
       "      <th>Account</th>\n",
       "      <th>Currency</th>\n",
       "      <th>FQ</th>\n",
       "      <th>FY</th>\n",
       "      <th>Filing Date</th>\n",
       "      <th>Period End Date</th>\n",
       "      <th>Period Type</th>\n",
       "      <th>Value</th>\n",
       "    </tr>\n",
       "  </thead>\n",
       "  <tbody>\n",
       "    <tr>\n",
       "      <th>3</th>\n",
       "      <td>Total Revenue</td>\n",
       "      <td>USD</td>\n",
       "      <td>None</td>\n",
       "      <td>2018</td>\n",
       "      <td>Nov-05-2018</td>\n",
       "      <td>Sep-29-2018</td>\n",
       "      <td>Annual</td>\n",
       "      <td>265,595.0</td>\n",
       "    </tr>\n",
       "    <tr>\n",
       "      <th>11</th>\n",
       "      <td>Growth Over Prior Year</td>\n",
       "      <td>None</td>\n",
       "      <td>None</td>\n",
       "      <td>2018</td>\n",
       "      <td>Nov-05-2018</td>\n",
       "      <td>Sep-29-2018</td>\n",
       "      <td>Annual</td>\n",
       "      <td>15.9%</td>\n",
       "    </tr>\n",
       "    <tr>\n",
       "      <th>16</th>\n",
       "      <td>Gross Profit</td>\n",
       "      <td>USD</td>\n",
       "      <td>None</td>\n",
       "      <td>2018</td>\n",
       "      <td>Nov-05-2018</td>\n",
       "      <td>Sep-29-2018</td>\n",
       "      <td>Annual</td>\n",
       "      <td>101,839.0</td>\n",
       "    </tr>\n",
       "    <tr>\n",
       "      <th>21</th>\n",
       "      <td>Margin %</td>\n",
       "      <td>None</td>\n",
       "      <td>None</td>\n",
       "      <td>2018</td>\n",
       "      <td>Nov-05-2018</td>\n",
       "      <td>Sep-29-2018</td>\n",
       "      <td>Annual</td>\n",
       "      <td>38.3%</td>\n",
       "    </tr>\n",
       "    <tr>\n",
       "      <th>29</th>\n",
       "      <td>EBITDA</td>\n",
       "      <td>USD</td>\n",
       "      <td>None</td>\n",
       "      <td>2018</td>\n",
       "      <td>Nov-05-2018</td>\n",
       "      <td>Sep-29-2018</td>\n",
       "      <td>Annual</td>\n",
       "      <td>81,801.0</td>\n",
       "    </tr>\n",
       "    <tr>\n",
       "      <th>37</th>\n",
       "      <td>Margin %</td>\n",
       "      <td>None</td>\n",
       "      <td>None</td>\n",
       "      <td>2018</td>\n",
       "      <td>Nov-05-2018</td>\n",
       "      <td>Sep-29-2018</td>\n",
       "      <td>Annual</td>\n",
       "      <td>30.8%</td>\n",
       "    </tr>\n",
       "    <tr>\n",
       "      <th>42</th>\n",
       "      <td>EBIT</td>\n",
       "      <td>USD</td>\n",
       "      <td>None</td>\n",
       "      <td>2018</td>\n",
       "      <td>Nov-05-2018</td>\n",
       "      <td>Sep-29-2018</td>\n",
       "      <td>Annual</td>\n",
       "      <td>70,898.0</td>\n",
       "    </tr>\n",
       "    <tr>\n",
       "      <th>50</th>\n",
       "      <td>Margin %</td>\n",
       "      <td>None</td>\n",
       "      <td>None</td>\n",
       "      <td>2018</td>\n",
       "      <td>Nov-05-2018</td>\n",
       "      <td>Sep-29-2018</td>\n",
       "      <td>Annual</td>\n",
       "      <td>26.7%</td>\n",
       "    </tr>\n",
       "    <tr>\n",
       "      <th>55</th>\n",
       "      <td>Earnings from Cont. Ops.</td>\n",
       "      <td>USD</td>\n",
       "      <td>None</td>\n",
       "      <td>2018</td>\n",
       "      <td>Nov-05-2018</td>\n",
       "      <td>Sep-29-2018</td>\n",
       "      <td>Annual</td>\n",
       "      <td>59,531.0</td>\n",
       "    </tr>\n",
       "    <tr>\n",
       "      <th>60</th>\n",
       "      <td>Margin %</td>\n",
       "      <td>None</td>\n",
       "      <td>None</td>\n",
       "      <td>2018</td>\n",
       "      <td>Nov-05-2018</td>\n",
       "      <td>Sep-29-2018</td>\n",
       "      <td>Annual</td>\n",
       "      <td>22.4%</td>\n",
       "    </tr>\n",
       "    <tr>\n",
       "      <th>65</th>\n",
       "      <td>Net Income</td>\n",
       "      <td>USD</td>\n",
       "      <td>None</td>\n",
       "      <td>2018</td>\n",
       "      <td>Nov-05-2018</td>\n",
       "      <td>Sep-29-2018</td>\n",
       "      <td>Annual</td>\n",
       "      <td>59,531.0</td>\n",
       "    </tr>\n",
       "    <tr>\n",
       "      <th>73</th>\n",
       "      <td>Margin %</td>\n",
       "      <td>None</td>\n",
       "      <td>None</td>\n",
       "      <td>2018</td>\n",
       "      <td>Nov-05-2018</td>\n",
       "      <td>Sep-29-2018</td>\n",
       "      <td>Annual</td>\n",
       "      <td>22.4%</td>\n",
       "    </tr>\n",
       "    <tr>\n",
       "      <th>78</th>\n",
       "      <td>Diluted EPS Excl. Extra Items³</td>\n",
       "      <td>USD</td>\n",
       "      <td>None</td>\n",
       "      <td>2018</td>\n",
       "      <td>Nov-05-2018</td>\n",
       "      <td>Sep-29-2018</td>\n",
       "      <td>Annual</td>\n",
       "      <td>11.91</td>\n",
       "    </tr>\n",
       "    <tr>\n",
       "      <th>86</th>\n",
       "      <td>Growth Over Prior Year</td>\n",
       "      <td>None</td>\n",
       "      <td>None</td>\n",
       "      <td>2018</td>\n",
       "      <td>Nov-05-2018</td>\n",
       "      <td>Sep-29-2018</td>\n",
       "      <td>Annual</td>\n",
       "      <td>29.3%</td>\n",
       "    </tr>\n",
       "  </tbody>\n",
       "</table>\n",
       "</div>"
      ],
      "text/plain": [
       "                           Account Currency    FQ    FY  Filing Date  \\\n",
       "3                    Total Revenue      USD  None  2018  Nov-05-2018   \n",
       "11          Growth Over Prior Year     None  None  2018  Nov-05-2018   \n",
       "16                    Gross Profit      USD  None  2018  Nov-05-2018   \n",
       "21                        Margin %     None  None  2018  Nov-05-2018   \n",
       "29                          EBITDA      USD  None  2018  Nov-05-2018   \n",
       "37                        Margin %     None  None  2018  Nov-05-2018   \n",
       "42                            EBIT      USD  None  2018  Nov-05-2018   \n",
       "50                        Margin %     None  None  2018  Nov-05-2018   \n",
       "55        Earnings from Cont. Ops.      USD  None  2018  Nov-05-2018   \n",
       "60                        Margin %     None  None  2018  Nov-05-2018   \n",
       "65                      Net Income      USD  None  2018  Nov-05-2018   \n",
       "73                        Margin %     None  None  2018  Nov-05-2018   \n",
       "78  Diluted EPS Excl. Extra Items³      USD  None  2018  Nov-05-2018   \n",
       "86          Growth Over Prior Year     None  None  2018  Nov-05-2018   \n",
       "\n",
       "   Period End Date Period Type      Value  \n",
       "3      Sep-29-2018      Annual  265,595.0  \n",
       "11     Sep-29-2018      Annual      15.9%  \n",
       "16     Sep-29-2018      Annual  101,839.0  \n",
       "21     Sep-29-2018      Annual      38.3%  \n",
       "29     Sep-29-2018      Annual   81,801.0  \n",
       "37     Sep-29-2018      Annual      30.8%  \n",
       "42     Sep-29-2018      Annual   70,898.0  \n",
       "50     Sep-29-2018      Annual      26.7%  \n",
       "55     Sep-29-2018      Annual   59,531.0  \n",
       "60     Sep-29-2018      Annual      22.4%  \n",
       "65     Sep-29-2018      Annual   59,531.0  \n",
       "73     Sep-29-2018      Annual      22.4%  \n",
       "78     Sep-29-2018      Annual      11.91  \n",
       "86     Sep-29-2018      Annual      29.3%  "
      ]
     },
     "execution_count": 24,
     "metadata": {},
     "output_type": "execute_result"
    }
   ],
   "source": [
    "df[df['Period End Date']=='Sep-29-2018']"
   ]
  }
 ],
 "metadata": {
  "kernelspec": {
   "display_name": "Python 3",
   "language": "python",
   "name": "python3"
  },
  "language_info": {
   "codemirror_mode": {
    "name": "ipython",
    "version": 3
   },
   "file_extension": ".py",
   "mimetype": "text/x-python",
   "name": "python",
   "nbconvert_exporter": "python",
   "pygments_lexer": "ipython3",
   "version": "3.7.3"
  }
 },
 "nbformat": 4,
 "nbformat_minor": 2
}
