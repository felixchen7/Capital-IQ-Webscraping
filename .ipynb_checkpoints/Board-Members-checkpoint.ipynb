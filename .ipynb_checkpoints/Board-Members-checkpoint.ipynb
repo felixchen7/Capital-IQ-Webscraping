{
 "cells": [
  {
   "cell_type": "markdown",
   "metadata": {},
   "source": [
    "# Capital IQ Webscraping | Board Members"
   ]
  },
  {
   "cell_type": "markdown",
   "metadata": {},
   "source": [
    "A demonstration for scraping data about company board members from the Capital IQ Website."
   ]
  },
  {
   "cell_type": "code",
   "execution_count": 1,
   "metadata": {},
   "outputs": [],
   "source": [
    "from selenium.webdriver.common.keys import Keys\n",
    "from selenium import webdriver\n",
    "from bs4 import BeautifulSoup\n",
    "import pandas as pd\n",
    "import lxml\n",
    "import getpass"
   ]
  },
  {
   "cell_type": "markdown",
   "metadata": {},
   "source": [
    "### Website and url parameters"
   ]
  },
  {
   "cell_type": "code",
   "execution_count": 2,
   "metadata": {},
   "outputs": [],
   "source": [
    "company = 24937 # Apple, Inc.\n",
    "url = 'https://www.capitaliq.com/CIQDotNet/Company/BoardMembers.aspx?CompanyId={}'"
   ]
  },
  {
   "cell_type": "markdown",
   "metadata": {},
   "source": [
    "### Credentials for website authentication"
   ]
  },
  {
   "cell_type": "code",
   "execution_count": 3,
   "metadata": {},
   "outputs": [
    {
     "name": "stdin",
     "output_type": "stream",
     "text": [
      " israel.dryer@us.gt.com\n"
     ]
    }
   ],
   "source": [
    "username = input()"
   ]
  },
  {
   "cell_type": "code",
   "execution_count": 4,
   "metadata": {},
   "outputs": [
    {
     "name": "stdin",
     "output_type": "stream",
     "text": [
      " ·········\n"
     ]
    }
   ],
   "source": [
    "password = getpass.getpass()"
   ]
  },
  {
   "cell_type": "markdown",
   "metadata": {},
   "source": [
    "### Create the browser bot"
   ]
  },
  {
   "cell_type": "code",
   "execution_count": 5,
   "metadata": {},
   "outputs": [],
   "source": [
    "bot = webdriver.Chrome()"
   ]
  },
  {
   "cell_type": "markdown",
   "metadata": {},
   "source": [
    "### Navigate to the website and login"
   ]
  },
  {
   "cell_type": "code",
   "execution_count": 6,
   "metadata": {},
   "outputs": [],
   "source": [
    "bot.get(url.format(company))"
   ]
  },
  {
   "cell_type": "code",
   "execution_count": 7,
   "metadata": {},
   "outputs": [],
   "source": [
    "bot.find_element_by_id('username').send_keys(username)"
   ]
  },
  {
   "cell_type": "code",
   "execution_count": 8,
   "metadata": {},
   "outputs": [],
   "source": [
    "pwd = bot.find_element_by_id('password')\n",
    "pwd.send_keys(password)\n",
    "pwd.send_keys(Keys.RETURN)"
   ]
  },
  {
   "cell_type": "markdown",
   "metadata": {},
   "source": [
    "### Extract data from the webpage"
   ]
  },
  {
   "cell_type": "markdown",
   "metadata": {},
   "source": [
    "Show all records and expand all rows if available"
   ]
  },
  {
   "cell_type": "raw",
   "metadata": {},
   "source": [
    "# expand all rows\n",
    "exp_rows = bot.find_element_by_id(\"dg_ctl00_dg_Icon\")\n",
    "exp_rows.click()"
   ]
  },
  {
   "cell_type": "code",
   "execution_count": 9,
   "metadata": {},
   "outputs": [],
   "source": [
    "soup = BeautifulSoup(bot.page_source, 'lxml')"
   ]
  },
  {
   "cell_type": "markdown",
   "metadata": {},
   "source": [
    "### Find table details within html and parse"
   ]
  },
  {
   "cell_type": "code",
   "execution_count": 10,
   "metadata": {},
   "outputs": [],
   "source": [
    "tables = soup.find_all('tr',{'class':'cTblSummaryRow'})"
   ]
  },
  {
   "cell_type": "code",
   "execution_count": 11,
   "metadata": {},
   "outputs": [],
   "source": [
    "data = []\n",
    "\n",
    "for table in tables:\n",
    "    pdict = {}\n",
    "    pdict['Name'] = table.find_previous_sibling().find_all('td')[2].text.strip()\n",
    "    pdict['Title'] = table.find_previous_sibling().find_all('td')[3].text.strip()\n",
    "    pdict['Role'] = table.find_previous_sibling().find_all('td')[4].text.strip()\n",
    "    pdict['Office'] = table.find_previous_sibling().find_all('td')[5].text.strip()\n",
    "    pdict['Phone'] = table.find_previous_sibling().find_all('td')[6].text.strip()\n",
    "    pdict['Email'] = table.find_previous_sibling().find_all('td')[7].text.strip()    \n",
    "    pdict['Background'] = table.find('itemtemplate').text.strip()\n",
    "    data.append(pdict)"
   ]
  },
  {
   "cell_type": "code",
   "execution_count": 12,
   "metadata": {},
   "outputs": [
    {
     "data": {
      "text/plain": [
       "{'Name': 'Levinson, Arthur D.',\n",
       " 'Title': 'Non-Executive Chairman of the Board',\n",
       " 'Role': 'External',\n",
       " 'Office': 'Cupertino',\n",
       " 'Phone': '408-996-1010',\n",
       " 'Email': '-',\n",
       " 'Background': \"Dr. Arthur D. Levinson, also known as Art, Ph.D. founded Calico LLC in 2013 and has been its Chief Executive Officer since September 2013. Dr. Levinson served as the President of Genentech, Inc. since July 1995 and served as its Chief Executive Officer from July 1995 to April 2009. He joined Google Inc., in 1980 as a Senior Scientist and served as Staff Scientist and Director of the Department of Cell Genetics at Genentech. Prior to 1999, he held various executive positions at Genentech Inc., including Vice President of Research Technology since April 1989, Vice President of Research since May 1990, Senior Vice President of Research since 1992 and Senior Vice President of Research and Development from 1993 to 1995. He served as a Member of Genentech's Executive Management Team since 1990. Dr. Levinson has been Chairman of the Board at Apple Inc. since November 15, 2011. He served as the Chairman of Amyris, Inc. from December 2005 to May 12, 2014. He served as Chairman of the Board of Genentech, Inc. from September 1999 to September 2014. He serves as a Co-Lead Director of Apple Inc. and has been its Independent Director since 2000. He served as a Director of F. Hoffmann-La Roche Ltd. since September 2014. He serves as a Director of Broad Institute of MIT and Harvard. He served as a Director of Genentech Inc. since July 1995 and served as its Member of Scientific Resource Board. He served as a Director of NGM Biopharmaceuticals, Inc. since October 2009. He served as a Lead Independent Director at Amyris, Inc. from March 2011 to May 2012 and as its Director from April 2010 to May 12, 2014. Dr. Levinson served as a Director of Alphabet Inc. from April 2004 to October 12, 2009 and Roche Holding AG from March 2010 to September 2014. He serves as a Member of Science Advisory Board of Chan Zuckerberg Initiative. He serves as a Member of board of Scientific Consultants for the Memorial Sloan-Kettering Cancer Center and is Member of Industrial Advisory Board at the California Institute for Quantitative Biomedical Research (QB3), Member of the Advisory Council at the Princeton University Department of Molecular Biology and the Lewis-Sigler Institute for Integrative Genomics, also at Princeton. He has served on the editorial boards of “Molecular Biology and Medicine” and “Molecular and Cellular Biology,” and “Virology“ as well as on the boards of the Pharmaceutical Research and Manufacturers of America, the Biotechnology Industry Organization and the California Healthcare Institute. He is active in the American Society of Microbiology, the New York Academy of Sciences, the American Association for the Advancement of Science and the American Society for Biochemistry and Molecular Biology. From 1977 to 1980, he served as a Postdoctoral Fellow in the Department of Microbiology at the University of California, San Francisco. Dr. Levinson has authored or co-authored more than 80 scientific articles. He received the Irvington Institute's 1999 Corporate Leadership Award in Science and was honored in the same year with the Corporate Leadership Award from the National Breast Cancer Coalition. He was inducted into the Biotech Hall of Fame at the 2003 Biotech Meeting of chief executive officers. Business Week named him as one of the Best Managers of the Year in 2004 and 2005 and Institutional Investor named him America's Best Chief Executive Officer in the biotech category four years in a row from 2004 to 2007). In 2006, Princeton University awarded, he the James Madison Medal for a distinguished career in scientific research and in biotechnology. Also in 2006, Barron's recognized him as one of “The World's Most Respected Chief Executive Officers,“ and the Best Practice Institute placed Dr. Levinson on their “25 Top Chief Executive Officers“ list. In 1977, he holds a Ph.D. in Biochemistry from Princeton University and a Bachelor of Science degree in Molecular Biology from the University of Washington.\"}"
      ]
     },
     "execution_count": 12,
     "metadata": {},
     "output_type": "execute_result"
    }
   ],
   "source": [
    "data[0]"
   ]
  },
  {
   "cell_type": "markdown",
   "metadata": {},
   "source": [
    "### Create and preview dataframe"
   ]
  },
  {
   "cell_type": "code",
   "execution_count": 13,
   "metadata": {},
   "outputs": [],
   "source": [
    "df = pd.DataFrame(data)"
   ]
  },
  {
   "cell_type": "code",
   "execution_count": 14,
   "metadata": {},
   "outputs": [
    {
     "data": {
      "text/html": [
       "<div>\n",
       "<style scoped>\n",
       "    .dataframe tbody tr th:only-of-type {\n",
       "        vertical-align: middle;\n",
       "    }\n",
       "\n",
       "    .dataframe tbody tr th {\n",
       "        vertical-align: top;\n",
       "    }\n",
       "\n",
       "    .dataframe thead th {\n",
       "        text-align: right;\n",
       "    }\n",
       "</style>\n",
       "<table border=\"1\" class=\"dataframe\">\n",
       "  <thead>\n",
       "    <tr style=\"text-align: right;\">\n",
       "      <th></th>\n",
       "      <th>Background</th>\n",
       "      <th>Email</th>\n",
       "      <th>Name</th>\n",
       "      <th>Office</th>\n",
       "      <th>Phone</th>\n",
       "      <th>Role</th>\n",
       "      <th>Title</th>\n",
       "    </tr>\n",
       "  </thead>\n",
       "  <tbody>\n",
       "    <tr>\n",
       "      <th>0</th>\n",
       "      <td>Dr. Arthur D. Levinson, also known as Art, Ph....</td>\n",
       "      <td>-</td>\n",
       "      <td>Levinson, Arthur D.</td>\n",
       "      <td>Cupertino</td>\n",
       "      <td>408-996-1010</td>\n",
       "      <td>External</td>\n",
       "      <td>Non-Executive Chairman of the Board</td>\n",
       "    </tr>\n",
       "    <tr>\n",
       "      <th>1</th>\n",
       "      <td>Mr. Timothy D. Cook, also known as Tim, has be...</td>\n",
       "      <td>-</td>\n",
       "      <td>Cook, Timothy D.</td>\n",
       "      <td>Cupertino</td>\n",
       "      <td>408-996-1010</td>\n",
       "      <td>Internal</td>\n",
       "      <td>CEO &amp; Director</td>\n",
       "    </tr>\n",
       "    <tr>\n",
       "      <th>2</th>\n",
       "      <td>Mr. Robert A. Iger, also known as Bob, has bee...</td>\n",
       "      <td>-</td>\n",
       "      <td>Iger, Robert A.</td>\n",
       "      <td>Cupertino</td>\n",
       "      <td>408-996-1010</td>\n",
       "      <td>External</td>\n",
       "      <td>Director</td>\n",
       "    </tr>\n",
       "    <tr>\n",
       "      <th>3</th>\n",
       "      <td>Ms. Andrea Jung serves as a Non-Executive Dire...</td>\n",
       "      <td>-</td>\n",
       "      <td>Jung, Andrea</td>\n",
       "      <td>Cupertino</td>\n",
       "      <td>408-996-1010</td>\n",
       "      <td>External</td>\n",
       "      <td>Director</td>\n",
       "    </tr>\n",
       "    <tr>\n",
       "      <th>4</th>\n",
       "      <td>Dr. Ronald D. Sugar, also known as Ron, Ph. D....</td>\n",
       "      <td>-</td>\n",
       "      <td>Sugar, Ronald D.</td>\n",
       "      <td>Cupertino</td>\n",
       "      <td>408-996-1010</td>\n",
       "      <td>External</td>\n",
       "      <td>Director</td>\n",
       "    </tr>\n",
       "    <tr>\n",
       "      <th>5</th>\n",
       "      <td>Mr. James A. Bell has been an Independent Dire...</td>\n",
       "      <td>-</td>\n",
       "      <td>Bell, James A.</td>\n",
       "      <td>Cupertino</td>\n",
       "      <td>408-996-1010</td>\n",
       "      <td>External</td>\n",
       "      <td>Director</td>\n",
       "    </tr>\n",
       "    <tr>\n",
       "      <th>6</th>\n",
       "      <td>Hon. Albert Arnold Gore, Jr., also known as Al...</td>\n",
       "      <td>-</td>\n",
       "      <td>Gore Jr., Albert Arnold</td>\n",
       "      <td>Cupertino</td>\n",
       "      <td>408-996-1010</td>\n",
       "      <td>External</td>\n",
       "      <td>Director</td>\n",
       "    </tr>\n",
       "    <tr>\n",
       "      <th>7</th>\n",
       "      <td>Ms. Susan Lynne Wagner, also known as Sue, ser...</td>\n",
       "      <td>-</td>\n",
       "      <td>Wagner, Susan Lynne</td>\n",
       "      <td>Cupertino</td>\n",
       "      <td>(212) 754-5560</td>\n",
       "      <td>External</td>\n",
       "      <td>Director</td>\n",
       "    </tr>\n",
       "  </tbody>\n",
       "</table>\n",
       "</div>"
      ],
      "text/plain": [
       "                                          Background Email  \\\n",
       "0  Dr. Arthur D. Levinson, also known as Art, Ph....     -   \n",
       "1  Mr. Timothy D. Cook, also known as Tim, has be...     -   \n",
       "2  Mr. Robert A. Iger, also known as Bob, has bee...     -   \n",
       "3  Ms. Andrea Jung serves as a Non-Executive Dire...     -   \n",
       "4  Dr. Ronald D. Sugar, also known as Ron, Ph. D....     -   \n",
       "5  Mr. James A. Bell has been an Independent Dire...     -   \n",
       "6  Hon. Albert Arnold Gore, Jr., also known as Al...     -   \n",
       "7  Ms. Susan Lynne Wagner, also known as Sue, ser...     -   \n",
       "\n",
       "                      Name     Office           Phone      Role  \\\n",
       "0      Levinson, Arthur D.  Cupertino    408-996-1010  External   \n",
       "1         Cook, Timothy D.  Cupertino    408-996-1010  Internal   \n",
       "2          Iger, Robert A.  Cupertino    408-996-1010  External   \n",
       "3             Jung, Andrea  Cupertino    408-996-1010  External   \n",
       "4         Sugar, Ronald D.  Cupertino    408-996-1010  External   \n",
       "5           Bell, James A.  Cupertino    408-996-1010  External   \n",
       "6  Gore Jr., Albert Arnold  Cupertino    408-996-1010  External   \n",
       "7      Wagner, Susan Lynne  Cupertino  (212) 754-5560  External   \n",
       "\n",
       "                                 Title  \n",
       "0  Non-Executive Chairman of the Board  \n",
       "1                       CEO & Director  \n",
       "2                             Director  \n",
       "3                             Director  \n",
       "4                             Director  \n",
       "5                             Director  \n",
       "6                             Director  \n",
       "7                             Director  "
      ]
     },
     "execution_count": 14,
     "metadata": {},
     "output_type": "execute_result"
    }
   ],
   "source": [
    "df.head(10)"
   ]
  }
 ],
 "metadata": {
  "kernelspec": {
   "display_name": "Python 3",
   "language": "python",
   "name": "python3"
  },
  "language_info": {
   "codemirror_mode": {
    "name": "ipython",
    "version": 3
   },
   "file_extension": ".py",
   "mimetype": "text/x-python",
   "name": "python",
   "nbconvert_exporter": "python",
   "pygments_lexer": "ipython3",
   "version": "3.7.3"
  }
 },
 "nbformat": 4,
 "nbformat_minor": 2
}
