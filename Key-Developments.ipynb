{
 "cells": [
  {
   "cell_type": "markdown",
   "metadata": {},
   "source": [
    "# Capital IQ Webscraping | Key Developments"
   ]
  },
  {
   "cell_type": "markdown",
   "metadata": {},
   "source": [
    "A demonstration for scraping key developments from the Capital IQ Website."
   ]
  },
  {
   "cell_type": "code",
   "execution_count": 1,
   "metadata": {},
   "outputs": [],
   "source": [
    "from selenium.webdriver.common.keys import Keys\n",
    "from selenium import webdriver\n",
    "from bs4 import BeautifulSoup\n",
    "import pandas as pd\n",
    "import lxml\n",
    "import getpass"
   ]
  },
  {
   "cell_type": "markdown",
   "metadata": {},
   "source": [
    "### Website and url parameters"
   ]
  },
  {
   "cell_type": "code",
   "execution_count": 2,
   "metadata": {},
   "outputs": [],
   "source": [
    "company = 24937 # Apple, Inc.\n",
    "date_range = 'y1' # other options include: w1, d30, m3, m6, y1, y2, y3, y5, all\n",
    "url = 'https://www.capitaliq.com/CIQDotNet/KeyDevs/KeyDevelopments.aspx?companyId={}&selDateRangeOption={}'"
   ]
  },
  {
   "cell_type": "markdown",
   "metadata": {},
   "source": [
    "### Credentials for website authentication"
   ]
  },
  {
   "cell_type": "code",
   "execution_count": 3,
   "metadata": {},
   "outputs": [
    {
     "name": "stdin",
     "output_type": "stream",
     "text": [
      " israel.dryer@us.gt.com\n"
     ]
    }
   ],
   "source": [
    "username = input()"
   ]
  },
  {
   "cell_type": "code",
   "execution_count": 4,
   "metadata": {},
   "outputs": [
    {
     "name": "stdin",
     "output_type": "stream",
     "text": [
      " ·········\n"
     ]
    }
   ],
   "source": [
    "password = getpass.getpass()"
   ]
  },
  {
   "cell_type": "markdown",
   "metadata": {},
   "source": [
    "### Create the browser bot"
   ]
  },
  {
   "cell_type": "code",
   "execution_count": 5,
   "metadata": {},
   "outputs": [],
   "source": [
    "bot = webdriver.Chrome()"
   ]
  },
  {
   "cell_type": "markdown",
   "metadata": {},
   "source": [
    "### Navigate to the website and login"
   ]
  },
  {
   "cell_type": "code",
   "execution_count": 6,
   "metadata": {},
   "outputs": [],
   "source": [
    "bot.get(url.format(company, date_range))"
   ]
  },
  {
   "cell_type": "code",
   "execution_count": 7,
   "metadata": {},
   "outputs": [],
   "source": [
    "bot.find_element_by_id('username').send_keys(username)"
   ]
  },
  {
   "cell_type": "code",
   "execution_count": 8,
   "metadata": {},
   "outputs": [],
   "source": [
    "pwd = bot.find_element_by_id('password')\n",
    "pwd.send_keys(password)\n",
    "pwd.send_keys(Keys.RETURN)"
   ]
  },
  {
   "cell_type": "markdown",
   "metadata": {},
   "source": [
    "### Extract data from the webpage"
   ]
  },
  {
   "cell_type": "markdown",
   "metadata": {},
   "source": [
    "Show all records and expand all rows if available"
   ]
  },
  {
   "cell_type": "code",
   "execution_count": 9,
   "metadata": {},
   "outputs": [],
   "source": [
    "# show all records\n",
    "view_all = bot.find_element_by_id(\"Displaysection3_myKeyDevDataGrid_myDataGrid_viewall\")\n",
    "view_all.click()"
   ]
  },
  {
   "cell_type": "code",
   "execution_count": 10,
   "metadata": {},
   "outputs": [],
   "source": [
    "# expand all rows\n",
    "exp_rows = bot.find_element_by_id(\"Displaysection3_myKeyDevDataGrid_myDataGrid_Icon\")\n",
    "exp_rows.click()"
   ]
  },
  {
   "cell_type": "code",
   "execution_count": 11,
   "metadata": {},
   "outputs": [],
   "source": [
    "soup = BeautifulSoup(bot.page_source, 'lxml')"
   ]
  },
  {
   "cell_type": "markdown",
   "metadata": {},
   "source": [
    "### Find table details within html and parse"
   ]
  },
  {
   "cell_type": "code",
   "execution_count": 12,
   "metadata": {},
   "outputs": [],
   "source": [
    "table = soup.find('table',{'class':'cTblListBody'}).tbody.find_all('td')"
   ]
  },
  {
   "cell_type": "code",
   "execution_count": 13,
   "metadata": {},
   "outputs": [
    {
     "name": "stdout",
     "output_type": "stream",
     "text": [
      "<td align=\"left\" style=\"width:200px;\" valign=\"top\">\n",
      "<span>Fixed Income Offering</span>\n",
      "<span style=\"float:right;\"><a data-ensho=\"24937,635793917\" enableviewstate=\"false\" id=\"635793917\" name=\"KeyDev\" onclick=\"KenshoService.openKenshoPopup(event)\" style=\"float:right;cursor: pointer;\" value=\"Fixed Income Offering\"><img alt=\"\" src=\"https://w1.ciqimg.com/CIQDotNet/images/enzo.png?urwvid=805769356\" style=\"display:none;float:right;\" title=\"Kensho Analytics\"/></a></span>\n",
      "</td>\n"
     ]
    }
   ],
   "source": [
    "print(table[15])"
   ]
  },
  {
   "cell_type": "markdown",
   "metadata": {},
   "source": [
    "### Extract and strip the text from each of the < td > elements"
   ]
  },
  {
   "cell_type": "code",
   "execution_count": 14,
   "metadata": {},
   "outputs": [],
   "source": [
    "table_rows = [x.text.strip() for x in table]"
   ]
  },
  {
   "cell_type": "code",
   "execution_count": 15,
   "metadata": {},
   "outputs": [
    {
     "name": "stdout",
     "output_type": "stream",
     "text": [
      "0   \n",
      "1   Date\n",
      "2   Type\n",
      "3   Headline\n",
      "4   Other Parties\n",
      "5   \n",
      "6   Sep-04-2019\n",
      "7   Fixed Income Offering\n",
      "8   Apple Inc. has announced a Fixed-Income Offering.\n",
      "9   -\n",
      "10   \n",
      "11   Situation: Apple Inc. has announced a Fixed-Income Offering.\n",
      "\n",
      "Security Name: Fixed Rate Senior Unsecured Notes due September 2022\n",
      "Security Type: Corporate Bond/Note (Non Convertible)\n",
      "Security Features: Callable\n",
      "Coupon Type: Fixed\n",
      "12   Situation: Apple Inc. has announced a Fixed-Income Offering.\n",
      "\n",
      "Security Name: Fixed Rate Senior Unsecured Notes due September 2022\n",
      "Security Type: Corporate Bond/Note (Non Convertible)\n",
      "Security Features: Callable\n",
      "Coupon Type: Fixed\n"
     ]
    }
   ],
   "source": [
    "for i in range(13):\n",
    "    print(i, ' ', table_rows[i])"
   ]
  },
  {
   "cell_type": "markdown",
   "metadata": {},
   "source": [
    "### The records do not begin until index 6, so I can start there"
   ]
  },
  {
   "cell_type": "code",
   "execution_count": 16,
   "metadata": {},
   "outputs": [],
   "source": [
    "table_rows = [x.text.strip() for x in table][6:]"
   ]
  },
  {
   "cell_type": "markdown",
   "metadata": {},
   "source": [
    "### The last row contains extra irrelevant data, so I'll pop this from the list"
   ]
  },
  {
   "cell_type": "code",
   "execution_count": 17,
   "metadata": {},
   "outputs": [
    {
     "name": "stdout",
     "output_type": "stream",
     "text": [
      "Viewing 1-135 of 135 Key Developments [View 1-25  | 26-50  | 51-75  | 76-100  | 101-125  | 126-135] [View All]\n"
     ]
    }
   ],
   "source": [
    "print(table_rows.pop())"
   ]
  },
  {
   "cell_type": "markdown",
   "metadata": {},
   "source": [
    "### Each record is a chunk of 8 list elements; the last 2 can be ignored"
   ]
  },
  {
   "cell_type": "code",
   "execution_count": 18,
   "metadata": {},
   "outputs": [
    {
     "name": "stdout",
     "output_type": "stream",
     "text": [
      "0 Sep-04-2019\n",
      "1 Fixed Income Offering\n",
      "2 Apple Inc. has announced a Fixed-Income Offering.\n",
      "3 -\n",
      "4 \n",
      "5 Situation: Apple Inc. has announced a Fixed-Income Offering.\n",
      "\n",
      "Security Name: Fixed Rate Senior Unsecured Notes due September 2022\n",
      "Security Type: Corporate Bond/Note (Non Convertible)\n",
      "Security Features: Callable\n",
      "Coupon Type: Fixed\n",
      "6 Situation: Apple Inc. has announced a Fixed-Income Offering.\n",
      "\n",
      "Security Name: Fixed Rate Senior Unsecured Notes due September 2022\n",
      "Security Type: Corporate Bond/Note (Non Convertible)\n",
      "Security Features: Callable\n",
      "Coupon Type: Fixed\n",
      "7 \n"
     ]
    }
   ],
   "source": [
    "for i in range(8):\n",
    "    print(i, table_rows[i])"
   ]
  },
  {
   "cell_type": "markdown",
   "metadata": {},
   "source": [
    "### Append record chunks to a new list"
   ]
  },
  {
   "cell_type": "code",
   "execution_count": 19,
   "metadata": {},
   "outputs": [],
   "source": [
    "row_count = len(table_rows)"
   ]
  },
  {
   "cell_type": "code",
   "execution_count": 20,
   "metadata": {},
   "outputs": [],
   "source": [
    "records = []\n",
    "\n",
    "for i in range(0, row_count, 8):\n",
    "    if table_rows[i:i+8]:\n",
    "        records.append(table_rows[i:i+6])\n",
    "    else:\n",
    "        continue"
   ]
  },
  {
   "cell_type": "code",
   "execution_count": 21,
   "metadata": {},
   "outputs": [
    {
     "name": "stdout",
     "output_type": "stream",
     "text": [
      "0 Sep-04-2019\n",
      "1 Fixed Income Offering\n",
      "2 Apple Inc. has announced a Fixed-Income Offering.\n",
      "3 -\n",
      "4 \n",
      "5 Situation: Apple Inc. has announced a Fixed-Income Offering.\n",
      "\n",
      "Security Name: Fixed Rate Senior Unsecured Notes due September 2022\n",
      "Security Type: Corporate Bond/Note (Non Convertible)\n",
      "Security Features: Callable\n",
      "Coupon Type: Fixed\n"
     ]
    }
   ],
   "source": [
    "for i, row in enumerate(records[0]):\n",
    "    print(i, row)"
   ]
  },
  {
   "cell_type": "markdown",
   "metadata": {},
   "source": [
    "### Remove situation label"
   ]
  },
  {
   "cell_type": "code",
   "execution_count": 22,
   "metadata": {},
   "outputs": [],
   "source": [
    "for row in records:\n",
    "    row[5] = row[5].replace('Situation: ','')"
   ]
  },
  {
   "cell_type": "markdown",
   "metadata": {},
   "source": [
    "### Remove the empty field between headline and situation"
   ]
  },
  {
   "cell_type": "code",
   "execution_count": 23,
   "metadata": {},
   "outputs": [],
   "source": [
    "for row in records:\n",
    "    row.pop(4)"
   ]
  },
  {
   "cell_type": "code",
   "execution_count": 24,
   "metadata": {},
   "outputs": [
    {
     "name": "stdout",
     "output_type": "stream",
     "text": [
      "0 Sep-04-2019\n",
      "1 Fixed Income Offering\n",
      "2 Apple Inc. has announced a Fixed-Income Offering.\n",
      "3 -\n",
      "4 Apple Inc. has announced a Fixed-Income Offering.\n",
      "\n",
      "Security Name: Fixed Rate Senior Unsecured Notes due September 2022\n",
      "Security Type: Corporate Bond/Note (Non Convertible)\n",
      "Security Features: Callable\n",
      "Coupon Type: Fixed\n"
     ]
    }
   ],
   "source": [
    "for i, row in enumerate(records[0]):\n",
    "    print(i, row)"
   ]
  },
  {
   "cell_type": "markdown",
   "metadata": {},
   "source": [
    "### Create and preview dataframe"
   ]
  },
  {
   "cell_type": "code",
   "execution_count": 25,
   "metadata": {},
   "outputs": [],
   "source": [
    "df = pd.DataFrame(records, columns=['Date','EventType','Headline','OtherParties','Situation'])"
   ]
  },
  {
   "cell_type": "code",
   "execution_count": 26,
   "metadata": {},
   "outputs": [
    {
     "data": {
      "text/html": [
       "<div>\n",
       "<style scoped>\n",
       "    .dataframe tbody tr th:only-of-type {\n",
       "        vertical-align: middle;\n",
       "    }\n",
       "\n",
       "    .dataframe tbody tr th {\n",
       "        vertical-align: top;\n",
       "    }\n",
       "\n",
       "    .dataframe thead th {\n",
       "        text-align: right;\n",
       "    }\n",
       "</style>\n",
       "<table border=\"1\" class=\"dataframe\">\n",
       "  <thead>\n",
       "    <tr style=\"text-align: right;\">\n",
       "      <th></th>\n",
       "      <th>Date</th>\n",
       "      <th>EventType</th>\n",
       "      <th>Headline</th>\n",
       "      <th>OtherParties</th>\n",
       "      <th>Situation</th>\n",
       "    </tr>\n",
       "  </thead>\n",
       "  <tbody>\n",
       "    <tr>\n",
       "      <th>0</th>\n",
       "      <td>Sep-04-2019</td>\n",
       "      <td>Fixed Income Offering</td>\n",
       "      <td>Apple Inc. has announced a Fixed-Income Offering.</td>\n",
       "      <td>-</td>\n",
       "      <td>Apple Inc. has announced a Fixed-Income Offeri...</td>\n",
       "    </tr>\n",
       "    <tr>\n",
       "      <th>1</th>\n",
       "      <td>Sep-04-2019</td>\n",
       "      <td>Fixed Income Offering</td>\n",
       "      <td>Apple Inc. has announced a Fixed-Income Offering.</td>\n",
       "      <td>-</td>\n",
       "      <td>Apple Inc. has announced a Fixed-Income Offeri...</td>\n",
       "    </tr>\n",
       "    <tr>\n",
       "      <th>2</th>\n",
       "      <td>Sep-04-2019</td>\n",
       "      <td>Fixed Income Offering</td>\n",
       "      <td>Apple Inc. has announced a Fixed-Income Offering.</td>\n",
       "      <td>-</td>\n",
       "      <td>Apple Inc. has announced a Fixed-Income Offeri...</td>\n",
       "    </tr>\n",
       "    <tr>\n",
       "      <th>3</th>\n",
       "      <td>Sep-04-2019</td>\n",
       "      <td>Fixed Income Offering</td>\n",
       "      <td>Apple Inc. has announced a Fixed-Income Offering.</td>\n",
       "      <td>-</td>\n",
       "      <td>Apple Inc. has announced a Fixed-Income Offeri...</td>\n",
       "    </tr>\n",
       "    <tr>\n",
       "      <th>4</th>\n",
       "      <td>Sep-04-2019</td>\n",
       "      <td>Fixed Income Offering</td>\n",
       "      <td>Apple Inc. has announced a Fixed-Income Offering.</td>\n",
       "      <td>-</td>\n",
       "      <td>Apple Inc. has announced a Fixed-Income Offeri...</td>\n",
       "    </tr>\n",
       "    <tr>\n",
       "      <th>5</th>\n",
       "      <td>Aug-21-2019</td>\n",
       "      <td>Product-Related Announcement</td>\n",
       "      <td>Apple to Launch Streaming Service in November ...</td>\n",
       "      <td>-</td>\n",
       "      <td>Apple introduced its TV+ service with exclusiv...</td>\n",
       "    </tr>\n",
       "    <tr>\n",
       "      <th>6</th>\n",
       "      <td>Aug-09-2019</td>\n",
       "      <td>Ex-Div Date (Regular)</td>\n",
       "      <td>Apple Inc., $ 0.77, Cash Dividend, Aug-09-2019</td>\n",
       "      <td>-</td>\n",
       "      <td>Apple Inc., $ 0.77, Cash Dividend, Aug-09-2019</td>\n",
       "    </tr>\n",
       "    <tr>\n",
       "      <th>7</th>\n",
       "      <td>Jul-31-2019</td>\n",
       "      <td>Buyback Tranche Update</td>\n",
       "      <td>Tranche Update on Apple Inc. (NasdaqGS:AAPL)'s...</td>\n",
       "      <td>-</td>\n",
       "      <td>From March 31, 2019 to June 29, 2019, the comp...</td>\n",
       "    </tr>\n",
       "    <tr>\n",
       "      <th>8</th>\n",
       "      <td>Jul-30-2019</td>\n",
       "      <td>Earnings Call</td>\n",
       "      <td>Apple Inc., Q3 2019 Earnings Call, Jul 30, 2019</td>\n",
       "      <td>-</td>\n",
       "      <td>Apple Inc., Q3 2019 Earnings Call, Jul 30, 2019</td>\n",
       "    </tr>\n",
       "    <tr>\n",
       "      <th>9</th>\n",
       "      <td>Jul-30-2019</td>\n",
       "      <td>Dividend Affirmation</td>\n",
       "      <td>Apple Declares Cash Dividend, Payable on Augus...</td>\n",
       "      <td>-</td>\n",
       "      <td>Apple's board of directors has declared a cash...</td>\n",
       "    </tr>\n",
       "  </tbody>\n",
       "</table>\n",
       "</div>"
      ],
      "text/plain": [
       "          Date                     EventType  \\\n",
       "0  Sep-04-2019         Fixed Income Offering   \n",
       "1  Sep-04-2019         Fixed Income Offering   \n",
       "2  Sep-04-2019         Fixed Income Offering   \n",
       "3  Sep-04-2019         Fixed Income Offering   \n",
       "4  Sep-04-2019         Fixed Income Offering   \n",
       "5  Aug-21-2019  Product-Related Announcement   \n",
       "6  Aug-09-2019         Ex-Div Date (Regular)   \n",
       "7  Jul-31-2019        Buyback Tranche Update   \n",
       "8  Jul-30-2019                 Earnings Call   \n",
       "9  Jul-30-2019          Dividend Affirmation   \n",
       "\n",
       "                                            Headline OtherParties  \\\n",
       "0  Apple Inc. has announced a Fixed-Income Offering.            -   \n",
       "1  Apple Inc. has announced a Fixed-Income Offering.            -   \n",
       "2  Apple Inc. has announced a Fixed-Income Offering.            -   \n",
       "3  Apple Inc. has announced a Fixed-Income Offering.            -   \n",
       "4  Apple Inc. has announced a Fixed-Income Offering.            -   \n",
       "5  Apple to Launch Streaming Service in November ...            -   \n",
       "6     Apple Inc., $ 0.77, Cash Dividend, Aug-09-2019            -   \n",
       "7  Tranche Update on Apple Inc. (NasdaqGS:AAPL)'s...            -   \n",
       "8    Apple Inc., Q3 2019 Earnings Call, Jul 30, 2019            -   \n",
       "9  Apple Declares Cash Dividend, Payable on Augus...            -   \n",
       "\n",
       "                                           Situation  \n",
       "0  Apple Inc. has announced a Fixed-Income Offeri...  \n",
       "1  Apple Inc. has announced a Fixed-Income Offeri...  \n",
       "2  Apple Inc. has announced a Fixed-Income Offeri...  \n",
       "3  Apple Inc. has announced a Fixed-Income Offeri...  \n",
       "4  Apple Inc. has announced a Fixed-Income Offeri...  \n",
       "5  Apple introduced its TV+ service with exclusiv...  \n",
       "6     Apple Inc., $ 0.77, Cash Dividend, Aug-09-2019  \n",
       "7  From March 31, 2019 to June 29, 2019, the comp...  \n",
       "8    Apple Inc., Q3 2019 Earnings Call, Jul 30, 2019  \n",
       "9  Apple's board of directors has declared a cash...  "
      ]
     },
     "execution_count": 26,
     "metadata": {},
     "output_type": "execute_result"
    }
   ],
   "source": [
    "df.head(10)"
   ]
  }
 ],
 "metadata": {
  "kernelspec": {
   "display_name": "Python 3",
   "language": "python",
   "name": "python3"
  },
  "language_info": {
   "codemirror_mode": {
    "name": "ipython",
    "version": 3
   },
   "file_extension": ".py",
   "mimetype": "text/x-python",
   "name": "python",
   "nbconvert_exporter": "python",
   "pygments_lexer": "ipython3",
   "version": "3.7.3"
  }
 },
 "nbformat": 4,
 "nbformat_minor": 2
}
