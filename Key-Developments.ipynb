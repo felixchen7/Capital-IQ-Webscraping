{
 "cells": [
  {
   "cell_type": "markdown",
   "metadata": {},
   "source": [
    "# Capital IQ Webscraping | Key Developments"
   ]
  },
  {
   "cell_type": "markdown",
   "metadata": {},
   "source": [
    "A demonstration for scraping key developments from the Capital IQ Website."
   ]
  },
  {
   "cell_type": "code",
   "execution_count": 1,
   "metadata": {},
   "outputs": [],
   "source": [
    "from selenium.webdriver.common.keys import Keys\n",
    "from selenium import webdriver\n",
    "from bs4 import BeautifulSoup\n",
    "import pandas as pd\n",
    "import lxml\n",
    "import getpass"
   ]
  },
  {
   "cell_type": "markdown",
   "metadata": {},
   "source": [
    "### Website and url parameters"
   ]
  },
  {
   "cell_type": "code",
   "execution_count": 2,
   "metadata": {},
   "outputs": [],
   "source": [
    "company = 18527 # ABB, Ltd\n",
    "date_range = 'y1' # other options include: w1, d30, m3, m6, y1, y2, y3, y5, all\n",
    "url = 'https://www.capitaliq.com/CIQDotNet/KeyDevs/KeyDevelopments.aspx?companyId={}&selDateRangeOption={}'"
   ]
  },
  {
   "cell_type": "markdown",
   "metadata": {},
   "source": [
    "### Credentials for website authentication"
   ]
  },
  {
   "cell_type": "code",
   "execution_count": 3,
   "metadata": {},
   "outputs": [
    {
     "name": "stdin",
     "output_type": "stream",
     "text": [
      " israel.dryer@us.gt.com\n"
     ]
    }
   ],
   "source": [
    "username = input()"
   ]
  },
  {
   "cell_type": "code",
   "execution_count": 4,
   "metadata": {},
   "outputs": [
    {
     "name": "stdin",
     "output_type": "stream",
     "text": [
      " ·········\n"
     ]
    }
   ],
   "source": [
    "password = getpass.getpass()"
   ]
  },
  {
   "cell_type": "markdown",
   "metadata": {},
   "source": [
    "### Create the browser bot"
   ]
  },
  {
   "cell_type": "code",
   "execution_count": 5,
   "metadata": {},
   "outputs": [],
   "source": [
    "bot = webdriver.Chrome()"
   ]
  },
  {
   "cell_type": "markdown",
   "metadata": {},
   "source": [
    "### Navigate to the website and login"
   ]
  },
  {
   "cell_type": "code",
   "execution_count": 6,
   "metadata": {},
   "outputs": [],
   "source": [
    "bot.get(url.format(company, date_range))"
   ]
  },
  {
   "cell_type": "code",
   "execution_count": 7,
   "metadata": {},
   "outputs": [],
   "source": [
    "bot.find_element_by_id('username').send_keys(username)"
   ]
  },
  {
   "cell_type": "code",
   "execution_count": 8,
   "metadata": {},
   "outputs": [],
   "source": [
    "pwd = bot.find_element_by_id('password')\n",
    "pwd.send_keys(password)\n",
    "pwd.send_keys(Keys.RETURN)"
   ]
  },
  {
   "cell_type": "markdown",
   "metadata": {},
   "source": [
    "### Extract data from the webpage"
   ]
  },
  {
   "cell_type": "markdown",
   "metadata": {},
   "source": [
    "Show all records and expand all rows if available"
   ]
  },
  {
   "cell_type": "code",
   "execution_count": 9,
   "metadata": {},
   "outputs": [],
   "source": [
    "# show all records\n",
    "view_all = bot.find_element_by_id(\"Displaysection3_myKeyDevDataGrid_myDataGrid_viewall\")\n",
    "view_all.click()"
   ]
  },
  {
   "cell_type": "code",
   "execution_count": 10,
   "metadata": {},
   "outputs": [],
   "source": [
    "# expand all rows\n",
    "exp_rows = bot.find_element_by_id(\"Displaysection3_myKeyDevDataGrid_myDataGrid_Icon\")\n",
    "exp_rows.click()"
   ]
  },
  {
   "cell_type": "code",
   "execution_count": 11,
   "metadata": {},
   "outputs": [],
   "source": [
    "soup = BeautifulSoup(bot.page_source, 'lxml')"
   ]
  },
  {
   "cell_type": "markdown",
   "metadata": {},
   "source": [
    "### Find table details within html and parse"
   ]
  },
  {
   "cell_type": "code",
   "execution_count": 12,
   "metadata": {},
   "outputs": [],
   "source": [
    "table = soup.find('table',{'class':'cTblListBody'}).tbody.find_all('td')"
   ]
  },
  {
   "cell_type": "code",
   "execution_count": 13,
   "metadata": {},
   "outputs": [
    {
     "name": "stdout",
     "output_type": "stream",
     "text": [
      "<td align=\"left\" style=\"width:200px;\" valign=\"top\">\n",
      "<span>Business Expansion</span>\n",
      "<span style=\"float:right;\"><a data-ensho=\"18527,636689187\" enableviewstate=\"false\" id=\"636689187\" name=\"KeyDev\" onclick=\"KenshoService.openKenshoPopup(event)\" style=\"float:right;cursor: pointer;\" value=\"Business Expansion\"><img alt=\"\" src=\"https://w1.ciqimg.com/CIQDotNet/images/enzo.png?urwvid=805769356\" style=\"display:none;float:right;\" title=\"Kensho Analytics\"/></a></span>\n",
      "</td>\n"
     ]
    }
   ],
   "source": [
    "print(table[15])"
   ]
  },
  {
   "cell_type": "markdown",
   "metadata": {},
   "source": [
    "### Extract and strip the text from each of the < td > elements"
   ]
  },
  {
   "cell_type": "code",
   "execution_count": 14,
   "metadata": {},
   "outputs": [],
   "source": [
    "table_rows = [x.text.strip() for x in table]"
   ]
  },
  {
   "cell_type": "code",
   "execution_count": 15,
   "metadata": {},
   "outputs": [
    {
     "name": "stdout",
     "output_type": "stream",
     "text": [
      "0   \n",
      "1   Date\n",
      "2   Type\n",
      "3   Headline\n",
      "4   Other Parties\n",
      "5   \n",
      "6   Sep-18-2019\n",
      "7   Client Announcement\n",
      "8   ABB Signs Major Framework Contract with Austrian Power Grid for Largest Ever Grid Expansion in Austria\n",
      "9   -\n",
      "10   \n",
      "11   Situation: ABB has signed a five-year framework contract with Austrian Power Grid (APG), potentially worth more than $100 million to supply gas-insulated switchgear (GIS), in the largest electricity grid expansion to date in Austria. ABB will be supplying GIS for the construction of a transmission grid that will help to strengthen the infrastructure in order to gradually integrate electricity generated by more renewable sources. Renewable energy is difficult to predict and causes load fluctuations. Its integration into the power grid requires a strong and resilient transmission infrastructure. The network connects wind power generators in eastern Austria to pumped storage power plants in the western part of the country. It will also transport surplus solar and wind power to pumped storage power plants in the Alps that act as \"green batteries\" for storing electricity that can be harvested during high demand periods. Under the #mission 2030 plan, Austria targets to achieve 100% electricity consumption from renewable energy and a fully carbon-free society by 2030. This goal also honors the European Union's renewable energy targets. From end 2019 to 2024, ABB's GIS will be installed in various substations around the country. GIS is a compact, metal-encapsulated switchgear that uses pressurized insulating gas, enabling safe operations in confined spaces. It significantly reduces equipment footprint by occupying only 10% of the space taken by an air-insulated switchgear substation, thus acting as an important enabler for urbanization.\n",
      "12   Situation: ABB has signed a five-year framework contract with Austrian Power Grid (APG), potentially worth more than $100 million to supply gas-insulated switchgear (GIS), in the largest electricity grid expansion to date in Austria. ABB will be supplying GIS for the construction of a transmission grid that will help to strengthen the infrastructure in order to gradually integrate electricity generated by more renewable sources. Renewable energy is difficult to predict and causes load fluctuations. Its integration into the power grid requires a strong and resilient transmission infrastructure. The network connects wind power generators in eastern Austria to pumped storage power plants in the western part of the country. It will also transport surplus solar and wind power to pumped storage power plants in the Alps that act as \"green batteries\" for storing electricity that can be harvested during high demand periods. Under the #mission 2030 plan, Austria targets to achieve 100% electricity consumption from renewable energy and a fully carbon-free society by 2030. This goal also honors the European Union's renewable energy targets. From end 2019 to 2024, ABB's GIS will be installed in various substations around the country. GIS is a compact, metal-encapsulated switchgear that uses pressurized insulating gas, enabling safe operations in confined spaces. It significantly reduces equipment footprint by occupying only 10% of the space taken by an air-insulated switchgear substation, thus acting as an important enabler for urbanization.\n"
     ]
    }
   ],
   "source": [
    "for i in range(13):\n",
    "    print(i, ' ', table_rows[i])"
   ]
  },
  {
   "cell_type": "markdown",
   "metadata": {},
   "source": [
    "### The records do not begin until index 6, so I can start there"
   ]
  },
  {
   "cell_type": "code",
   "execution_count": 16,
   "metadata": {},
   "outputs": [],
   "source": [
    "table_rows = [x.text.strip() for x in table][6:]"
   ]
  },
  {
   "cell_type": "markdown",
   "metadata": {},
   "source": [
    "### The last row contains extra irrelevant data, so I'll pop this from the list"
   ]
  },
  {
   "cell_type": "code",
   "execution_count": 17,
   "metadata": {},
   "outputs": [
    {
     "name": "stdout",
     "output_type": "stream",
     "text": [
      "Viewing 1-150 of 150 Key Developments [View 1-25  | 26-50  | 51-75  | 76-100  | 101-125  | 126-150] [View All]\n"
     ]
    }
   ],
   "source": [
    "print(table_rows.pop())"
   ]
  },
  {
   "cell_type": "markdown",
   "metadata": {},
   "source": [
    "### Each record is a chunk of 8 list elements; the last 2 can be ignored"
   ]
  },
  {
   "cell_type": "code",
   "execution_count": 18,
   "metadata": {},
   "outputs": [
    {
     "name": "stdout",
     "output_type": "stream",
     "text": [
      "0 Sep-18-2019\n",
      "1 Client Announcement\n",
      "2 ABB Signs Major Framework Contract with Austrian Power Grid for Largest Ever Grid Expansion in Austria\n",
      "3 -\n",
      "4 \n",
      "5 Situation: ABB has signed a five-year framework contract with Austrian Power Grid (APG), potentially worth more than $100 million to supply gas-insulated switchgear (GIS), in the largest electricity grid expansion to date in Austria. ABB will be supplying GIS for the construction of a transmission grid that will help to strengthen the infrastructure in order to gradually integrate electricity generated by more renewable sources. Renewable energy is difficult to predict and causes load fluctuations. Its integration into the power grid requires a strong and resilient transmission infrastructure. The network connects wind power generators in eastern Austria to pumped storage power plants in the western part of the country. It will also transport surplus solar and wind power to pumped storage power plants in the Alps that act as \"green batteries\" for storing electricity that can be harvested during high demand periods. Under the #mission 2030 plan, Austria targets to achieve 100% electricity consumption from renewable energy and a fully carbon-free society by 2030. This goal also honors the European Union's renewable energy targets. From end 2019 to 2024, ABB's GIS will be installed in various substations around the country. GIS is a compact, metal-encapsulated switchgear that uses pressurized insulating gas, enabling safe operations in confined spaces. It significantly reduces equipment footprint by occupying only 10% of the space taken by an air-insulated switchgear substation, thus acting as an important enabler for urbanization.\n",
      "6 Situation: ABB has signed a five-year framework contract with Austrian Power Grid (APG), potentially worth more than $100 million to supply gas-insulated switchgear (GIS), in the largest electricity grid expansion to date in Austria. ABB will be supplying GIS for the construction of a transmission grid that will help to strengthen the infrastructure in order to gradually integrate electricity generated by more renewable sources. Renewable energy is difficult to predict and causes load fluctuations. Its integration into the power grid requires a strong and resilient transmission infrastructure. The network connects wind power generators in eastern Austria to pumped storage power plants in the western part of the country. It will also transport surplus solar and wind power to pumped storage power plants in the Alps that act as \"green batteries\" for storing electricity that can be harvested during high demand periods. Under the #mission 2030 plan, Austria targets to achieve 100% electricity consumption from renewable energy and a fully carbon-free society by 2030. This goal also honors the European Union's renewable energy targets. From end 2019 to 2024, ABB's GIS will be installed in various substations around the country. GIS is a compact, metal-encapsulated switchgear that uses pressurized insulating gas, enabling safe operations in confined spaces. It significantly reduces equipment footprint by occupying only 10% of the space taken by an air-insulated switchgear substation, thus acting as an important enabler for urbanization.\n",
      "7 \n"
     ]
    }
   ],
   "source": [
    "for i in range(8):\n",
    "    print(i, table_rows[i])"
   ]
  },
  {
   "cell_type": "markdown",
   "metadata": {},
   "source": [
    "### Append record chunks to a new list"
   ]
  },
  {
   "cell_type": "code",
   "execution_count": 19,
   "metadata": {},
   "outputs": [],
   "source": [
    "row_count = len(table_rows)"
   ]
  },
  {
   "cell_type": "code",
   "execution_count": 20,
   "metadata": {},
   "outputs": [],
   "source": [
    "records = []\n",
    "\n",
    "for i in range(0, row_count, 8):\n",
    "    if table_rows[i:i+8]:\n",
    "        records.append(table_rows[i:i+6])\n",
    "    else:\n",
    "        continue"
   ]
  },
  {
   "cell_type": "code",
   "execution_count": 21,
   "metadata": {},
   "outputs": [
    {
     "name": "stdout",
     "output_type": "stream",
     "text": [
      "0 Sep-18-2019\n",
      "1 Client Announcement\n",
      "2 ABB Signs Major Framework Contract with Austrian Power Grid for Largest Ever Grid Expansion in Austria\n",
      "3 -\n",
      "4 \n",
      "5 Situation: ABB has signed a five-year framework contract with Austrian Power Grid (APG), potentially worth more than $100 million to supply gas-insulated switchgear (GIS), in the largest electricity grid expansion to date in Austria. ABB will be supplying GIS for the construction of a transmission grid that will help to strengthen the infrastructure in order to gradually integrate electricity generated by more renewable sources. Renewable energy is difficult to predict and causes load fluctuations. Its integration into the power grid requires a strong and resilient transmission infrastructure. The network connects wind power generators in eastern Austria to pumped storage power plants in the western part of the country. It will also transport surplus solar and wind power to pumped storage power plants in the Alps that act as \"green batteries\" for storing electricity that can be harvested during high demand periods. Under the #mission 2030 plan, Austria targets to achieve 100% electricity consumption from renewable energy and a fully carbon-free society by 2030. This goal also honors the European Union's renewable energy targets. From end 2019 to 2024, ABB's GIS will be installed in various substations around the country. GIS is a compact, metal-encapsulated switchgear that uses pressurized insulating gas, enabling safe operations in confined spaces. It significantly reduces equipment footprint by occupying only 10% of the space taken by an air-insulated switchgear substation, thus acting as an important enabler for urbanization.\n"
     ]
    }
   ],
   "source": [
    "for i, row in enumerate(records[0]):\n",
    "    print(i, row)"
   ]
  },
  {
   "cell_type": "markdown",
   "metadata": {},
   "source": [
    "### Remove situation label"
   ]
  },
  {
   "cell_type": "code",
   "execution_count": 22,
   "metadata": {},
   "outputs": [],
   "source": [
    "for row in records:\n",
    "    row[5] = row[5].replace('Situation: ','')"
   ]
  },
  {
   "cell_type": "markdown",
   "metadata": {},
   "source": [
    "### Remove the empty field between headline and situation"
   ]
  },
  {
   "cell_type": "code",
   "execution_count": 23,
   "metadata": {},
   "outputs": [],
   "source": [
    "for row in records:\n",
    "    row.pop(4)"
   ]
  },
  {
   "cell_type": "markdown",
   "metadata": {},
   "source": [
    "### Remove duplicate events if reported more than once"
   ]
  },
  {
   "cell_type": "code",
   "execution_count": 33,
   "metadata": {},
   "outputs": [],
   "source": [
    "data = list(set([tuple(row) for row in records]))"
   ]
  },
  {
   "cell_type": "code",
   "execution_count": 36,
   "metadata": {},
   "outputs": [
    {
     "name": "stdout",
     "output_type": "stream",
     "text": [
      "0 Sep-18-2019\n",
      "1 Client Announcement\n",
      "2 ABB Signs Major Framework Contract with Austrian Power Grid for Largest Ever Grid Expansion in Austria\n",
      "3 -\n",
      "4 ABB has signed a five-year framework contract with Austrian Power Grid (APG), potentially worth more than $100 million to supply gas-insulated switchgear (GIS), in the largest electricity grid expansion to date in Austria. ABB will be supplying GIS for the construction of a transmission grid that will help to strengthen the infrastructure in order to gradually integrate electricity generated by more renewable sources. Renewable energy is difficult to predict and causes load fluctuations. Its integration into the power grid requires a strong and resilient transmission infrastructure. The network connects wind power generators in eastern Austria to pumped storage power plants in the western part of the country. It will also transport surplus solar and wind power to pumped storage power plants in the Alps that act as \"green batteries\" for storing electricity that can be harvested during high demand periods. Under the #mission 2030 plan, Austria targets to achieve 100% electricity consumption from renewable energy and a fully carbon-free society by 2030. This goal also honors the European Union's renewable energy targets. From end 2019 to 2024, ABB's GIS will be installed in various substations around the country. GIS is a compact, metal-encapsulated switchgear that uses pressurized insulating gas, enabling safe operations in confined spaces. It significantly reduces equipment footprint by occupying only 10% of the space taken by an air-insulated switchgear substation, thus acting as an important enabler for urbanization.\n"
     ]
    }
   ],
   "source": [
    "for i, row in enumerate(data[0]):\n",
    "    print(i, row)"
   ]
  },
  {
   "cell_type": "markdown",
   "metadata": {},
   "source": [
    "### Create and preview dataframe"
   ]
  },
  {
   "cell_type": "code",
   "execution_count": 37,
   "metadata": {},
   "outputs": [],
   "source": [
    "df = pd.DataFrame(data, columns=['Date','EventType','Headline','OtherParties','Situation'])"
   ]
  },
  {
   "cell_type": "code",
   "execution_count": 38,
   "metadata": {},
   "outputs": [
    {
     "data": {
      "text/html": [
       "<div>\n",
       "<style scoped>\n",
       "    .dataframe tbody tr th:only-of-type {\n",
       "        vertical-align: middle;\n",
       "    }\n",
       "\n",
       "    .dataframe tbody tr th {\n",
       "        vertical-align: top;\n",
       "    }\n",
       "\n",
       "    .dataframe thead th {\n",
       "        text-align: right;\n",
       "    }\n",
       "</style>\n",
       "<table border=\"1\" class=\"dataframe\">\n",
       "  <thead>\n",
       "    <tr style=\"text-align: right;\">\n",
       "      <th></th>\n",
       "      <th>Date</th>\n",
       "      <th>EventType</th>\n",
       "      <th>Headline</th>\n",
       "      <th>OtherParties</th>\n",
       "      <th>Situation</th>\n",
       "    </tr>\n",
       "  </thead>\n",
       "  <tbody>\n",
       "    <tr>\n",
       "      <th>0</th>\n",
       "      <td>Sep-18-2019</td>\n",
       "      <td>Client Announcement</td>\n",
       "      <td>ABB Signs Major Framework Contract with Austri...</td>\n",
       "      <td>-</td>\n",
       "      <td>ABB has signed a five-year framework contract ...</td>\n",
       "    </tr>\n",
       "    <tr>\n",
       "      <th>1</th>\n",
       "      <td>Jul-08-2019</td>\n",
       "      <td>Product-Related Announcement</td>\n",
       "      <td>ABB Pilots Automation Solution for the Next Ge...</td>\n",
       "      <td>-</td>\n",
       "      <td>ABB pilots automation solution for the next ge...</td>\n",
       "    </tr>\n",
       "    <tr>\n",
       "      <th>2</th>\n",
       "      <td>Oct-22-2018</td>\n",
       "      <td>Conference</td>\n",
       "      <td>Constellation Research Inc., Constellation Res...</td>\n",
       "      <td>Credit Suisse Group AG (SWX:CSGN), Blue Prism ...</td>\n",
       "      <td>Constellation Research Inc., Constellation Res...</td>\n",
       "    </tr>\n",
       "    <tr>\n",
       "      <th>3</th>\n",
       "      <td>Jul-25-2019</td>\n",
       "      <td>Announcement of Earnings</td>\n",
       "      <td>Abb Ltd Reports Earnings Results for the Secon...</td>\n",
       "      <td>-</td>\n",
       "      <td>ABB Ltd. announced earnings results for the se...</td>\n",
       "    </tr>\n",
       "    <tr>\n",
       "      <th>4</th>\n",
       "      <td>Jan-21-2019</td>\n",
       "      <td>Client Announcement</td>\n",
       "      <td>Unibap AB (publ.) Enters into an Agreement wit...</td>\n",
       "      <td>Unibap AB (publ) (OM:UNIBAP)</td>\n",
       "      <td>Unibap AB (publ.) has been granted access to A...</td>\n",
       "    </tr>\n",
       "    <tr>\n",
       "      <th>5</th>\n",
       "      <td>Jun-09-2019</td>\n",
       "      <td>Conference</td>\n",
       "      <td>Edison Electric Institute Inc., Edison Electri...</td>\n",
       "      <td>Landis+Gyr Group AG (SWX:LAND), Accenture plc ...</td>\n",
       "      <td>Edison Electric Institute Inc., Edison Electri...</td>\n",
       "    </tr>\n",
       "    <tr>\n",
       "      <th>6</th>\n",
       "      <td>Apr-23-2019</td>\n",
       "      <td>Company Conference Presentation</td>\n",
       "      <td>ABB Ltd Presents at Field Service USA, Apr-23-...</td>\n",
       "      <td>-</td>\n",
       "      <td>ABB Ltd Presents at Field Service USA, Apr-23-...</td>\n",
       "    </tr>\n",
       "    <tr>\n",
       "      <th>7</th>\n",
       "      <td>Dec-04-2018</td>\n",
       "      <td>Client Announcement</td>\n",
       "      <td>ABB Wins an Order to Supply its ABB Ability™ E...</td>\n",
       "      <td>-</td>\n",
       "      <td>ABB has won an order to supply its ABB Ability...</td>\n",
       "    </tr>\n",
       "    <tr>\n",
       "      <th>8</th>\n",
       "      <td>Jul-17-2019</td>\n",
       "      <td>Client Announcement</td>\n",
       "      <td>Dover Fueling Solutions Announces Cooperation ...</td>\n",
       "      <td>Dover Corporation (NYSE:DOV)</td>\n",
       "      <td>Dover Fueling Solutions (DFS), a part of Dover...</td>\n",
       "    </tr>\n",
       "    <tr>\n",
       "      <th>9</th>\n",
       "      <td>May-10-2019</td>\n",
       "      <td>Client Announcement</td>\n",
       "      <td>ABB Wins Major Order to Transmit Wind Power fr...</td>\n",
       "      <td>-</td>\n",
       "      <td>ABB’s Power Grids business has been awarded a ...</td>\n",
       "    </tr>\n",
       "  </tbody>\n",
       "</table>\n",
       "</div>"
      ],
      "text/plain": [
       "          Date                        EventType  \\\n",
       "0  Sep-18-2019              Client Announcement   \n",
       "1  Jul-08-2019     Product-Related Announcement   \n",
       "2  Oct-22-2018                       Conference   \n",
       "3  Jul-25-2019         Announcement of Earnings   \n",
       "4  Jan-21-2019              Client Announcement   \n",
       "5  Jun-09-2019                       Conference   \n",
       "6  Apr-23-2019  Company Conference Presentation   \n",
       "7  Dec-04-2018              Client Announcement   \n",
       "8  Jul-17-2019              Client Announcement   \n",
       "9  May-10-2019              Client Announcement   \n",
       "\n",
       "                                            Headline  \\\n",
       "0  ABB Signs Major Framework Contract with Austri...   \n",
       "1  ABB Pilots Automation Solution for the Next Ge...   \n",
       "2  Constellation Research Inc., Constellation Res...   \n",
       "3  Abb Ltd Reports Earnings Results for the Secon...   \n",
       "4  Unibap AB (publ.) Enters into an Agreement wit...   \n",
       "5  Edison Electric Institute Inc., Edison Electri...   \n",
       "6  ABB Ltd Presents at Field Service USA, Apr-23-...   \n",
       "7  ABB Wins an Order to Supply its ABB Ability™ E...   \n",
       "8  Dover Fueling Solutions Announces Cooperation ...   \n",
       "9  ABB Wins Major Order to Transmit Wind Power fr...   \n",
       "\n",
       "                                        OtherParties  \\\n",
       "0                                                  -   \n",
       "1                                                  -   \n",
       "2  Credit Suisse Group AG (SWX:CSGN), Blue Prism ...   \n",
       "3                                                  -   \n",
       "4                       Unibap AB (publ) (OM:UNIBAP)   \n",
       "5  Landis+Gyr Group AG (SWX:LAND), Accenture plc ...   \n",
       "6                                                  -   \n",
       "7                                                  -   \n",
       "8                       Dover Corporation (NYSE:DOV)   \n",
       "9                                                  -   \n",
       "\n",
       "                                           Situation  \n",
       "0  ABB has signed a five-year framework contract ...  \n",
       "1  ABB pilots automation solution for the next ge...  \n",
       "2  Constellation Research Inc., Constellation Res...  \n",
       "3  ABB Ltd. announced earnings results for the se...  \n",
       "4  Unibap AB (publ.) has been granted access to A...  \n",
       "5  Edison Electric Institute Inc., Edison Electri...  \n",
       "6  ABB Ltd Presents at Field Service USA, Apr-23-...  \n",
       "7  ABB has won an order to supply its ABB Ability...  \n",
       "8  Dover Fueling Solutions (DFS), a part of Dover...  \n",
       "9  ABB’s Power Grids business has been awarded a ...  "
      ]
     },
     "execution_count": 38,
     "metadata": {},
     "output_type": "execute_result"
    }
   ],
   "source": [
    "df.head(10)"
   ]
  }
 ],
 "metadata": {
  "kernelspec": {
   "display_name": "Python 3",
   "language": "python",
   "name": "python3"
  },
  "language_info": {
   "codemirror_mode": {
    "name": "ipython",
    "version": 3
   },
   "file_extension": ".py",
   "mimetype": "text/x-python",
   "name": "python",
   "nbconvert_exporter": "python",
   "pygments_lexer": "ipython3",
   "version": "3.7.3"
  }
 },
 "nbformat": 4,
 "nbformat_minor": 2
}
